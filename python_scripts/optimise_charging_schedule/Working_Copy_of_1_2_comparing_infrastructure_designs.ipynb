{
 "cells": [
  {
   "cell_type": "markdown",
   "metadata": {
    "id": "jtdQQMgkARF6"
   },
   "source": [
    "*If running in Colab run this first to install ACN-Portal.*"
   ]
  },
  {
   "cell_type": "code",
   "execution_count": null,
   "metadata": {
    "colab": {
     "base_uri": "https://localhost:8080/"
    },
    "id": "8mx18gWdARF8",
    "outputId": "fbb7c86b-5488-48b3-f81a-bc02094e1a7b"
   },
   "outputs": [],
   "source": [
    "import subprocess\n",
    "import sys\n",
    "\n",
    "! pip uninstall scikit-learn\n",
    "! pip install scikit-learn==0.19.2 \n",
    "! pip install Mosek \n",
    "! pip uninstall cvxpy\n",
    "! pip install cvxpy\n",
    "\n",
    "if 'google.colab' in str(get_ipython()):\n",
    "    print('Running on CoLab')\n",
    "    subprocess.check_call([sys.executable, \"-m\", \"pip\", \"install\", \"acnportal\"])\n",
    "    subprocess.check_call([sys.executable, \"-m\", \"pip\", \"install\", \"git+https://github.com/caltech-netlab/adacharge\"])"
   ]
  },
  {
   "cell_type": "code",
   "execution_count": null,
   "metadata": {
    "id": "d7rHGNyXARF_"
   },
   "outputs": [],
   "source": [
    "import os\n",
    "import subprocess\n",
    "\n",
    "if not os.path.exists(\"data/jpl_weekeday_40.pkl\"):\n",
    "    if not os.path.exists(\"data\"):\n",
    "        subprocess.run([\"mkdir\", \"data\"])\n",
    "    subprocess.run([\"wget\", \"-P\", \"./data\", \"https://ev.caltech.edu/assets/data/gmm/jpl_weekday_40.pkl\"])"
   ]
  },
  {
   "cell_type": "markdown",
   "metadata": {
    "id": "AQDLvoonARGA"
   },
   "source": [
    "\n",
    "# Comparing Infrastructure Designs using ACN-Sim\n",
    "### by Zachary Lee\n",
    "#### Last updated: 4/16/2020\n",
    "\n",
    "\n",
    "In this case study, we demonstrate how ACN-Data and ACN-Sim can be used to evaluate infrastructure configurations and algorithms. We consider the case of a site host who expects to charge approximately 100 EVs per day with a demand pattern similar to that of JPL.\n",
    "\n",
    "The site host has several options, including\n",
    "*   102 Uncontrolled Level-1 EVSEs with a 200 kW Transformer\n",
    "*   30 Uncontrolled Level-2 EVSEs with a 200 kW Transformer\n",
    "*   102 Uncontrolled Level-2 EVSEs with a 670 kW Transformer\n",
    "*   102 Smart Level-2 EVSEs running LLF with a 200 kW Transformer\n",
    "\n",
    "We evaluate the scenarios on the number of times drivers would have to swap parking places to allow other drivers to charge, the percentage of total demand met, and the operating costs (calculated using ACN-Sim's integration with utility tariffs). This demonstrates the significant benefits of developing smart EV charging systems in terms of reducing both capital costs (transformer capacity) and operating costs.\n"
   ]
  },
  {
   "cell_type": "code",
   "execution_count": null,
   "metadata": {
    "colab": {
     "base_uri": "https://localhost:8080/"
    },
    "id": "mPnC6rLBARGA",
    "outputId": "b047bdd1-2cec-45d2-a12c-6340c8abfaea"
   },
   "outputs": [],
   "source": [
    "import acnportal\n",
    "\n",
    "from copy import deepcopy\n",
    "import warnings\n",
    "import pytz\n",
    "import numpy as np\n",
    "import pandas as pd\n",
    "import pickle\n",
    "from datetime import datetime\n",
    "from acnportal import acnsim\n",
    "from acnportal import algorithms\n",
    "from acnportal.signals.tariffs.tou_tariff import TimeOfUseTariff\n",
    "from acnportal.acnsim.events import GaussianMixtureEvents\n",
    "from acnportal.contrib.acnsim import StochasticNetwork\n",
    "import adacharge"
   ]
  },
  {
   "cell_type": "markdown",
   "metadata": {
    "id": "ieht3djgARGC"
   },
   "source": [
    "## Charging Network Designs\n",
    "\n",
    "To define our charging network options, we will use two functions which generate a StochasticNetwork object. The StochasticNetwork assigns users to spaces dynamically based on available spaces. In this example, we will assume each driver has equal preference for all spots.\n",
    "\n",
    "If all spaces are taken, drivers join a queue which is drained as drivers finish charging and move their vehicle (the early departure option specifies that drivers move their vehicle when it is done charging rather than their normal departure time). We record each time that the user leave and is replaced with someone from the queue as a swap. Swaps are undesirable as they waste time and are frustrating for users. Despite this, swapping is a common practice in many charging facilities where the number of users exceeds the number of EVSEs."
   ]
  },
  {
   "cell_type": "code",
   "execution_count": null,
   "metadata": {
    "id": "rIeOgwoNARGC"
   },
   "outputs": [],
   "source": [
    "def level_1_network(transformer_cap=200, evse_per_phase=34):\n",
    "    \"\"\" Configurable charging network for level-1 EVSEs connected line to ground\n",
    "        at 120 V.\n",
    "\n",
    "    Args:\n",
    "        transformer_cap (float): Capacity of the transformer feeding the network\n",
    "          [kW]\n",
    "        evse_per_phase (int): Number of EVSEs on each phase. Total number of\n",
    "          EVSEs will be 3 * evse_per_phase.\n",
    "\n",
    "    Returns:\n",
    "        ChargingNetwork: Configured ChargingNetwork.\n",
    "    \"\"\"\n",
    "    network = StochasticNetwork(early_departure=True)\n",
    "    voltage = 120\n",
    "\n",
    "    # Define the sets of EVSEs in the Caltech ACN.\n",
    "    A_ids = ['A-{0}'.format(i) for i in range(evse_per_phase)]\n",
    "    B_ids = ['B-{0}'.format(i) for i in range(evse_per_phase)]\n",
    "    C_ids = ['C-{0}'.format(i) for i in range(evse_per_phase)]\n",
    "\n",
    "    # Add Caltech EVSEs\n",
    "    for evse_id in A_ids:\n",
    "        network.register_evse(acnsim.FiniteRatesEVSE(evse_id, [0, 16]), voltage, 0)\n",
    "    for evse_id in B_ids:\n",
    "        network.register_evse(acnsim.FiniteRatesEVSE(evse_id, [0, 16]), voltage, 120)\n",
    "    for evse_id in C_ids:\n",
    "        network.register_evse(acnsim.FiniteRatesEVSE(evse_id, [0, 16]), voltage, -120)\n",
    "\n",
    "    # Add Caltech Constraint Set\n",
    "    I3a = acnsim.Current(A_ids)\n",
    "    I3b = acnsim.Current(B_ids)\n",
    "    I3c = acnsim.Current(C_ids)\n",
    "\n",
    "    # Define intermediate currents\n",
    "    I2a = (1 / 4) * (I3a - I3c)\n",
    "    I2b = (1 / 4) * (I3b - I3a)\n",
    "    I2c = (1 / 4) * (I3c - I3b)\n",
    "\n",
    "    # Build constraint set\n",
    "    primary_side_constr = transformer_cap * 1000 / 3 / 277\n",
    "    secondary_side_constr = transformer_cap * 1000 / 3 / 120\n",
    "    network.add_constraint(I3a, secondary_side_constr, name='Secondary A')\n",
    "    network.add_constraint(I3b, secondary_side_constr, name='Secondary B')\n",
    "    network.add_constraint(I3c, secondary_side_constr, name='Secondary C')\n",
    "    network.add_constraint(I2a, primary_side_constr, name='Primary A')\n",
    "    network.add_constraint(I2b, primary_side_constr, name='Primary B')\n",
    "    network.add_constraint(I2c, primary_side_constr, name='Primary C')\n",
    "\n",
    "    return network\n",
    "\n",
    "\n",
    "def level_2_network(transformer_cap=200, evse_per_phase=34):\n",
    "    \"\"\" Configurable charging network for level-2 EVSEs connected line to line\n",
    "        at 208 V.\n",
    "\n",
    "    Args:\n",
    "        transformer_cap (float): Capacity of the transformer feeding the network\n",
    "          [kW]\n",
    "        evse_per_phase (int): Number of EVSEs on each phase. Total number of\n",
    "          EVSEs will be 3 * evse_per_phase.\n",
    "\n",
    "    Returns:\n",
    "        ChargingNetwork: Configured ChargingNetwork.\n",
    "    \"\"\"\n",
    "    network = StochasticNetwork(early_departure=True)\n",
    "    voltage = 208\n",
    "    evse_type = 'AeroVironment'\n",
    "\n",
    "    # Define the sets of EVSEs in the Caltech ACN.\n",
    "    AB_ids = ['AB-{0}'.format(i) for i in range(evse_per_phase)]\n",
    "    BC_ids = ['BC-{0}'.format(i) for i in range(evse_per_phase)]\n",
    "    CA_ids = ['CA-{0}'.format(i) for i in range(evse_per_phase)]\n",
    "\n",
    "    # Add Caltech EVSEs\n",
    "    for evse_id in AB_ids:\n",
    "        network.register_evse(acnsim.get_evse_by_type(evse_id, evse_type), voltage, 30)\n",
    "    for evse_id in BC_ids:\n",
    "        network.register_evse(acnsim.get_evse_by_type(evse_id, evse_type), voltage, -90)\n",
    "    for evse_id in CA_ids:\n",
    "        network.register_evse(acnsim.get_evse_by_type(evse_id, evse_type), voltage, 150)\n",
    "\n",
    "    # Add Caltech Constraint Set\n",
    "    AB = acnsim.Current(AB_ids)\n",
    "    BC = acnsim.Current(BC_ids)\n",
    "    CA = acnsim.Current(CA_ids)\n",
    "\n",
    "    # Define intermediate currents\n",
    "    I3a = AB - CA\n",
    "    I3b = BC - AB\n",
    "    I3c = CA - BC\n",
    "    I2a = (1 / 4) * (I3a - I3c)\n",
    "    I2b = (1 / 4) * (I3b - I3a)\n",
    "    I2c = (1 / 4) * (I3c - I3b)\n",
    "\n",
    "    # Build constraint set\n",
    "    primary_side_constr = transformer_cap * 1000 / 3 / 277\n",
    "    secondary_side_constr = transformer_cap * 1000 / 3 / 120\n",
    "    network.add_constraint(I3a, secondary_side_constr, name='Secondary A')\n",
    "    network.add_constraint(I3b, secondary_side_constr, name='Secondary B')\n",
    "    network.add_constraint(I3c, secondary_side_constr, name='Secondary C')\n",
    "    network.add_constraint(I2a, primary_side_constr, name='Primary A')\n",
    "    network.add_constraint(I2b, primary_side_constr, name='Primary B')\n",
    "    network.add_constraint(I2c, primary_side_constr, name='Primary C')\n",
    "\n",
    "    return network\n"
   ]
  },
  {
   "cell_type": "markdown",
   "metadata": {
    "id": "PNWyKB2_ARGE"
   },
   "source": [
    "## Experiments\n",
    "\n",
    "In these experiments we will run a simulation for each system configuration can compare the results on key metrics."
   ]
  },
  {
   "cell_type": "code",
   "execution_count": null,
   "metadata": {
    "id": "zK444QYxARGF"
   },
   "outputs": [],
   "source": [
    "# How long each time discrete time interval in the simulation should be.\n",
    "PERIOD = 5  # minutes\n",
    "\n",
    "# Voltage of the network.\n",
    "VOLTAGE = 208  # volts\n",
    "\n",
    "# Default maximum charging rate for each EV battery.\n",
    "DEFAULT_BATTERY_POWER = 6.6 # kW"
   ]
  },
  {
   "cell_type": "markdown",
   "metadata": {
    "id": "ldchfX3vARGH"
   },
   "source": [
    "**Network Options**\n",
    "\n",
    "We consider five infrastrucuture configurations."
   ]
  },
  {
   "cell_type": "code",
   "execution_count": null,
   "metadata": {
    "id": "JLqDVR2JARGI"
   },
   "outputs": [],
   "source": [
    "# Network of 102 Level-1 EVSEs with a 200 kW Transformer\n",
    "level_1 = level_1_network(transformer_cap=200, evse_per_phase=34)\n",
    "\n",
    "# Network of 30 Level-2 EVSEs with a 200 kW Transformer\n",
    "level_2_200kW_30 = level_2_network(transformer_cap=200, evse_per_phase=10)\n",
    "\n",
    "# Network of 102 Level-2 EVSEs with a 200 kW Transformer\n",
    "level_2_200kW_102 = level_2_network(transformer_cap=200, evse_per_phase=34)\n",
    "\n",
    "# Network of 102 Level-2 EVSEs with a 680 kW Transformer\n",
    "level_2_680kW_102 = level_2_network(transformer_cap=680, evse_per_phase=34)\n",
    "\n",
    "# Network of 201 Level-2 EVSEs with a 200 kW Transformer\n",
    "level_2_200kW_201 = level_2_network(transformer_cap=200, evse_per_phase=67)"
   ]
  },
  {
   "cell_type": "markdown",
   "metadata": {
    "id": "jYmlHwFjARGJ"
   },
   "source": [
    "**Events**\n",
    "\n",
    "We assume that our site will have a usage profile similar to JPL, so we use a Gaussian Mixture Model trained on data from weekdays at JPL to generate events for this experiment. We assume that the site will be closed on weekends, so no charging will occur."
   ]
  },
  {
   "cell_type": "code",
   "execution_count": null,
   "metadata": {
    "id": "IJemVf1TARGJ"
   },
   "outputs": [],
   "source": [
    "def get_synth_events(sessions_per_day):\n",
    "    gmm = pickle.load(open('./data/jpl_weekday_40.pkl', 'rb'))\n",
    "\n",
    "    # Generate a list of the number of sessions to draw for each day.\n",
    "    # This generates 30 days of charging demands.\n",
    "    num_evs = [0]*2 + [sessions_per_day]*5 + [0]*2 + [sessions_per_day]*5 + [0]*2 + \\\n",
    "              [sessions_per_day]*5 + [0]*2 + [sessions_per_day]*5 + [0]*2\n",
    "\n",
    "    # Note that because we are drawing from a distribution, some sessions will be\n",
    "    # invalid, we ignore these sessions and remove the corresponding plugin events.\n",
    "    gen = GaussianMixtureEvents(pretrained_model=gmm, duration_min=0.08334)\n",
    "\n",
    "    synth_events = gen.generate_events(num_evs, PERIOD, VOLTAGE, DEFAULT_BATTERY_POWER)\n",
    "    return synth_events"
   ]
  },
  {
   "cell_type": "code",
   "execution_count": null,
   "metadata": {
    "colab": {
     "base_uri": "https://localhost:8080/"
    },
    "id": "FgbDi1DYARGK",
    "outputId": "29428bdd-4524-4efa-aaab-48b2b8fe7780"
   },
   "outputs": [],
   "source": [
    "# Events with 100 EVs per weekday\n",
    "\n",
    "sessions_100 = get_synth_events(100)"
   ]
  },
  {
   "cell_type": "code",
   "execution_count": null,
   "metadata": {
    "id": "a5dNZ2BBARGK"
   },
   "outputs": [],
   "source": [
    "# Events with 200 EVs per weekday\n",
    "sessions_200 = get_synth_events(200)"
   ]
  },
  {
   "cell_type": "code",
   "execution_count": null,
   "metadata": {
    "id": "xv4iDqmUARGL"
   },
   "outputs": [],
   "source": [
    "def run_experiment(network, algorithm, events):\n",
    "    \"\"\" Run simulation for the events defined previously and the specified\n",
    "        network / algorithm / events.\n",
    "    \"\"\"\n",
    "    # Timezone of the ACN we are using.\n",
    "    timezone = pytz.timezone('America/Los_Angeles')\n",
    "\n",
    "    # Start and End times are used when collecting data.\n",
    "    start = timezone.localize(datetime(2019, 6, 1))\n",
    "    end = timezone.localize(datetime(2019, 7, 1))\n",
    "\n",
    "    sch = deepcopy(algorithm)\n",
    "    cn = deepcopy(network)\n",
    "    signals = {'tariff': TimeOfUseTariff('sce_tou_ev_4_march_2019')}\n",
    "\n",
    "    sim = acnsim.Simulator(cn, sch, events, start, period=PERIOD, verbose=False, signals=signals)\n",
    "    with warnings.catch_warnings():\n",
    "        warnings.simplefilter(\"ignore\")\n",
    "    sim.run()\n",
    "\n",
    "    r = {'proportion_of_energy_delivered': acnsim.proportion_of_energy_delivered(sim),\n",
    "         'energy_delivered': sum(ev.energy_delivered for ev in sim.ev_history.values()),\n",
    "         'num_swaps': cn.swaps,\n",
    "         'num_never_charged': cn.never_charged,\n",
    "         'energy_cost': acnsim.energy_cost(sim),\n",
    "         'demand_charge': acnsim.demand_charge(sim)\n",
    "         }\n",
    "    r['total_cost'] = r['energy_cost'] + r['demand_charge']\n",
    "    r['$/kWh'] = r['total_cost'] / r['energy_delivered']\n",
    "    return r"
   ]
  },
  {
   "cell_type": "markdown",
   "metadata": {
    "id": "EvrcDhZdARGL"
   },
   "source": [
    "**Define Algorithms**\n",
    "\n",
    "We consider Uncontrolled, Least-Laxity First and Model Predictive Control (cost-minimization)."
   ]
  },
  {
   "cell_type": "code",
   "execution_count": null,
   "metadata": {
    "id": "fPiCgpHaARGM"
   },
   "outputs": [],
   "source": [
    "uncontrolled = algorithms.UncontrolledCharging()\n",
    "llf = algorithms.SortedSchedulingAlgo(algorithms.least_laxity_first)"
   ]
  },
  {
   "cell_type": "code",
   "execution_count": null,
   "metadata": {
    "id": "eBJbGBgHARGM"
   },
   "outputs": [],
   "source": [
    "def days_remaining_scale_demand_charge(rates, infrastructure, interface,\n",
    "                                       baseline_peak=0, **kwargs):\n",
    "    day_index = interface.current_time // ((60 / interface.period) * 24)\n",
    "    days_in_month = 30\n",
    "    day_index = min(day_index, days_in_month - 1)\n",
    "    scale = 1 / (days_in_month - day_index)\n",
    "    dc = adacharge.demand_charge(rates, infrastructure, interface, baseline_peak, **kwargs)\n",
    "    return scale * dc"
   ]
  },
  {
   "cell_type": "code",
   "execution_count": null,
   "metadata": {
    "colab": {
     "base_uri": "https://localhost:8080/"
    },
    "id": "NCUbGwQWARGM",
    "outputId": "750f07d1-f68d-443b-c032-3595ccfac6ea"
   },
   "outputs": [],
   "source": [
    "cost_min_obj = [adacharge.ObjectiveComponent(adacharge.total_energy, 1000),\n",
    "                adacharge.ObjectiveComponent(adacharge.tou_energy_cost),\n",
    "                adacharge.ObjectiveComponent(days_remaining_scale_demand_charge),\n",
    "                adacharge.ObjectiveComponent(adacharge.quick_charge, 1e-6),\n",
    "                adacharge.ObjectiveComponent(adacharge.equal_share, 1e-12)\n",
    "               ]\n",
    "\n",
    "# ECOS is unable to solve this one (the cost one)\n",
    "\n",
    "\n",
    "\n",
    "import cvxpy as cp\n",
    "print(cp.installed_solvers())\n",
    "\n",
    "cost_min = adacharge.AdaptiveSchedulingAlgorithm(cost_min_obj, solver=\"MOSEK\", quantize=True, reallocate=True, peak_limit=1000, max_recompute=1)"
   ]
  },
  {
   "cell_type": "code",
   "execution_count": null,
   "metadata": {
    "id": "0Tmx3RwYb8iA"
   },
   "outputs": [],
   "source": []
  },
  {
   "cell_type": "markdown",
   "metadata": {
    "id": "q17No_kkARGN"
   },
   "source": [
    "**Run Experiments (100 EVs)**"
   ]
  },
  {
   "cell_type": "code",
   "execution_count": null,
   "metadata": {
    "colab": {
     "background_save": true
    },
    "id": "V-xa3Rx7ARGN"
   },
   "outputs": [],
   "source": [
    "level1_unctrl_100 = run_experiment(level_1, uncontrolled, deepcopy(sessions_100))"
   ]
  },
  {
   "cell_type": "code",
   "execution_count": null,
   "metadata": {
    "colab": {
     "background_save": true
    },
    "id": "naUEAoLBARGN"
   },
   "outputs": [],
   "source": [
    "level2_200kW_untrl_100 = run_experiment(level_2_200kW_30, uncontrolled, deepcopy(sessions_100))"
   ]
  },
  {
   "cell_type": "code",
   "execution_count": null,
   "metadata": {
    "colab": {
     "background_save": true
    },
    "id": "fLp_pz_GARGN"
   },
   "outputs": [],
   "source": [
    "level2_680kW_unctrl_100 = run_experiment(level_2_680kW_102, uncontrolled, deepcopy(sessions_100))"
   ]
  },
  {
   "cell_type": "code",
   "execution_count": null,
   "metadata": {
    "colab": {
     "background_save": true
    },
    "id": "qbbkq4NTARGO"
   },
   "outputs": [],
   "source": [
    "level2_200kW_llf_100 = run_experiment(level_2_200kW_102, llf, deepcopy(sessions_100))"
   ]
  },
  {
   "cell_type": "code",
   "execution_count": null,
   "metadata": {
    "colab": {
     "base_uri": "https://localhost:8080/"
    },
    "id": "tskoNPQ0jfX1",
    "outputId": "5ddcabfc-6cd3-4705-bfa4-d76a37262d06"
   },
   "outputs": [],
   "source": [
    "import sys\n",
    "! mkdir /root/mosek\n",
    "%cp ./mosek.lic /root/mosek/mosek.lic"
   ]
  },
  {
   "cell_type": "code",
   "execution_count": null,
   "metadata": {
    "colab": {
     "background_save": true
    },
    "id": "w_gjsGb3ARGO"
   },
   "outputs": [],
   "source": [
    "level2_200kW_cost_min_100 = run_experiment(level_2_200kW_102, cost_min, deepcopy(sessions_100))"
   ]
  },
  {
   "cell_type": "markdown",
   "metadata": {
    "id": "7lyuDKRAARGP"
   },
   "source": [
    "**Run Experiments (200 EVs)**"
   ]
  },
  {
   "cell_type": "code",
   "execution_count": null,
   "metadata": {
    "colab": {
     "background_save": true
    },
    "id": "YLyFOBFbARGP"
   },
   "outputs": [],
   "source": [
    "level1_unctrl_200 = run_experiment(level_1, uncontrolled, deepcopy(sessions_200))"
   ]
  },
  {
   "cell_type": "code",
   "execution_count": null,
   "metadata": {
    "colab": {
     "background_save": true
    },
    "id": "-n8ickuUARGP"
   },
   "outputs": [],
   "source": [
    "level2_200kW_untrl_200 = run_experiment(level_2_200kW_30, uncontrolled, deepcopy(sessions_200))"
   ]
  },
  {
   "cell_type": "code",
   "execution_count": null,
   "metadata": {
    "colab": {
     "background_save": true
    },
    "id": "KmFgrBcIARGP"
   },
   "outputs": [],
   "source": [
    "level2_680kW_unctrl_200 = run_experiment(level_2_680kW_102, uncontrolled, deepcopy(sessions_200))"
   ]
  },
  {
   "cell_type": "code",
   "execution_count": null,
   "metadata": {
    "colab": {
     "background_save": true
    },
    "id": "sRmjiBlbARGP"
   },
   "outputs": [],
   "source": [
    "level2_200kW_llf_200 = run_experiment(level_2_200kW_102, llf, deepcopy(sessions_200))"
   ]
  },
  {
   "cell_type": "code",
   "execution_count": null,
   "metadata": {
    "id": "msWoo6m0ARGQ"
   },
   "outputs": [],
   "source": [
    "level2_200kW_cost_min_200 = run_experiment(level_2_200kW_102, cost_min, deepcopy(sessions_200))"
   ]
  },
  {
   "cell_type": "code",
   "execution_count": null,
   "metadata": {
    "id": "QTKat7P9ARGQ"
   },
   "outputs": [],
   "source": [
    "level2_200kW_cost_min_201_200 = run_experiment(level_2_200kW_201, cost_min, deepcopy(sessions_200))"
   ]
  },
  {
   "cell_type": "markdown",
   "metadata": {
    "id": "GuYrUFKkARGQ"
   },
   "source": [
    "### Analyze Results"
   ]
  },
  {
   "cell_type": "code",
   "execution_count": null,
   "metadata": {
    "id": "rUc__r0fARGR"
   },
   "outputs": [],
   "source": [
    "evs_100 = pd.DataFrame({\n",
    "    'Level 1: Unctrl: 200 kW : 102 EVSEs': level1_unctrl_100,\n",
    "    'Level 2: Unctrl: 200 kW : 30 EVSEs':  level2_200kW_untrl_100,\n",
    "    'Level 2: Unctrl: 680 kW : 102 EVSEs': level2_680kW_unctrl_100,\n",
    "    'Level 2: LLF: 200 kW : 102 EVSEs': level2_200kW_llf_100,\n",
    "    'Level 2: Min Cost: 200 kW : 102 EVSEs': level2_200kW_cost_min_100\n",
    "})"
   ]
  },
  {
   "cell_type": "code",
   "execution_count": null,
   "metadata": {
    "id": "32A9zK2YARGR"
   },
   "outputs": [],
   "source": [
    "evs_100.to_csv(\"results/100_EV_comparison.csv\")"
   ]
  },
  {
   "cell_type": "code",
   "execution_count": null,
   "metadata": {
    "id": "Us1s_N-4ARGR"
   },
   "outputs": [],
   "source": [
    "pd.read_csv(\"results/100_EV_comparison.csv\", index_col=0)"
   ]
  },
  {
   "cell_type": "code",
   "execution_count": null,
   "metadata": {
    "id": "4U9FBt9wARGS"
   },
   "outputs": [],
   "source": [
    "evs_200 = pd.DataFrame({\n",
    "    'Level 1: Unctrl: 200 kW : 102 EVSEs': level1_unctrl_200,\n",
    "    'Level 2: Unctrl: 200 kW : 30 EVSEs':  level2_200kW_untrl_200,\n",
    "    'Level 2: Unctrl: 680 kW : 102 EVSEs': level2_680kW_unctrl_200,\n",
    "    'Level 2: LLF: 200 kW : 102 EVSEs': level2_200kW_llf_200,\n",
    "    'Level 2: Min Cost: 200 kW : 102 EVSEs': level2_200kW_cost_min_200,\n",
    "    'Level 2: Min Cost: 200 kW : 201 EVSEs': level2_200kW_cost_min_201_200\n",
    "})"
   ]
  },
  {
   "cell_type": "code",
   "execution_count": null,
   "metadata": {
    "id": "Vr-lQEU_ARGT"
   },
   "outputs": [],
   "source": [
    "evs_200.to_csv(\"results/200_EV_comparison.csv\")"
   ]
  },
  {
   "cell_type": "code",
   "execution_count": null,
   "metadata": {
    "id": "UdWrqkVPARGT",
    "outputId": "9e638029-cefd-41e7-fded-eeb6b7fad6e6"
   },
   "outputs": [],
   "source": [
    "pd.read_csv(\"results/200_EV_comparison.csv\", index_col=0)"
   ]
  },
  {
   "cell_type": "markdown",
   "metadata": {
    "id": "pDOpBYMhARGT"
   },
   "source": [
    "From the above table we can see that smart charging using even a simple LLF algorithm has significant benefits over Uncontrolled Level-1 charging in terms of amount of demand met. It also requires far less infrastructure than Uncontrolled Level-2 charging with the same number of EVSEs, and without requiring users to swap spaces mid-day.\n"
   ]
  }
 ],
 "metadata": {
  "colab": {
   "collapsed_sections": [],
   "provenance": []
  },
  "kernelspec": {
   "display_name": "Python 3 (ipykernel)",
   "language": "python",
   "name": "python3"
  },
  "language_info": {
   "codemirror_mode": {
    "name": "ipython",
    "version": 3
   },
   "file_extension": ".py",
   "mimetype": "text/x-python",
   "name": "python",
   "nbconvert_exporter": "python",
   "pygments_lexer": "ipython3",
   "version": "3.8.11"
  }
 },
 "nbformat": 4,
 "nbformat_minor": 4
}