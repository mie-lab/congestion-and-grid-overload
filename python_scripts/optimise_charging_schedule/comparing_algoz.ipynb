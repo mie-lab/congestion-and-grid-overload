{
 "cells": [
  {
   "cell_type": "markdown",
   "metadata": {},
   "source": [
    "*If running in Colab run this first to install ACN-Portal.*"
   ]
  },
  {
   "cell_type": "code",
   "execution_count": null,
   "metadata": {},
   "outputs": [],
   "source": [
    "import subprocess\n",
    "import sys\n",
    "\n",
    "# if 'google.colab' in str(get_ipython()):\n",
    "#     print('Running on CoLab')\n",
    "subprocess.check_call([sys.executable, \"-m\", \"pip\", \"install\", \"acnportal\"])\n",
    "subprocess.check_call([sys.executable, \"-m\", \"pip\", \"install\", \"git+https://github.com/caltech-netlab/adacharge\"])"
   ]
  },
  {
   "cell_type": "markdown",
   "metadata": {},
   "source": [
    "*Download data from figshare.*"
   ]
  },
  {
   "cell_type": "code",
   "execution_count": null,
   "metadata": {},
   "outputs": [],
   "source": [
    "import urllib.request\n",
    "import zipfile\n",
    "import os\n",
    "\n",
    "# Download data from figshare.\n",
    "# url = 'https://ndownloader.figshare.com/files/26553950'\n",
    "# urllib.request.urlretrieve(url, 'temp_data.zip')\n",
    "\n",
    "# Extract data into temp directory\n",
    "with zipfile.ZipFile('temp_data.zip', 'r') as zip_ref:\n",
    "    zip_ref.extractall(\"temp_data2/\")\n",
    "\n",
    "# Move files from temp directory\n",
    "for dir in [\"results\", \"figures\", \"events\"]:\n",
    "    try: \n",
    "        os.rename(f\"temp_data2/{dir}\", dir)\n",
    "    except FileNotFoundError:\n",
    "        pass\n",
    "\n",
    "# Remove temporary files\n",
    "os.remove(\"temp_data.zip\")\n",
    "os.removedirs(\"temp_data\")"
   ]
  },
  {
   "cell_type": "markdown",
   "metadata": {},
   "source": [
    "# Evaluating the Impact of Practical Models on Algorithm Performance\n",
    "\n",
    "In this example we use real-world operational data to evaluate (through simulations) how the Adaptive Scheduling Algorithm and other baseline algorithms handle the practical challenges in real charging systems. To do this, we consider two practical objectives, charging users quickly in highly constrained systems, and maximizing operating profits."
   ]
  },
  {
   "cell_type": "code",
   "execution_count": null,
   "metadata": {},
   "outputs": [],
   "source": [
    "from datetime import datetime\n",
    "import pytz\n",
    "from copy import deepcopy\n",
    "from matplotlib import pyplot as plt\n",
    "import matplotlib\n",
    "import numpy as np\n",
    "import pandas as pd\n",
    "import seaborn as sns\n",
    "import json\n",
    "import os\n",
    "\n",
    "\n",
    "import csv\n",
    "import pathlib\n",
    "import os\n",
    "\n",
    "# os.chdir((pathlib.Path(__file__) / \"..\" / \"..\" / \"..\").resolve())\n",
    "import sys\n",
    "sys.path.append(\"/Users/nishant/Documents/GitHub/congestion-and-grid-overload/\")\n",
    "from inspect import currentframe\n",
    "import zipfile\n",
    "import shared_config\n",
    "from tqdm import tqdm\n",
    "\n",
    "\n",
    "\n",
    "from acnportal import acnsim, algorithms\n",
    "from acnportal.acnsim import analysis\n",
    "from acnportal.signals.tariffs import TimeOfUseTariff\n",
    "from adacharge import *"
   ]
  },
  {
   "cell_type": "markdown",
   "metadata": {},
   "source": [
    "# Experiment Setup"
   ]
  },
  {
   "cell_type": "code",
   "execution_count": null,
   "metadata": {
    "pycharm": {
     "name": "#%%\n"
    }
   },
   "outputs": [],
   "source": [
    "API_KEY = 'DEMO_TOKEN'\n",
    "TIMEZONE = pytz.timezone('America/Los_Angeles')\n",
    "SITE = 'caltech'\n",
    "PERIOD = 5  # minutes\n",
    "VOLTAGE = 208  # volts\n",
    "KW_TO_AMPS = 1000 / 208\n",
    "KWH_TO_AMP_PERIODS = KW_TO_AMPS * (60 / 5)\n",
    "MAX_LEN = 144\n",
    "FORCE_FEASIBLE = True\n",
    "EVENTS_DIR = 'events/'\n",
    "VERBOSE = True"
   ]
  },
  {
   "cell_type": "code",
   "execution_count": null,
   "metadata": {
    "pycharm": {
     "name": "#%%\n"
    }
   },
   "outputs": [],
   "source": [
    "def get_events(start, end, ideal_battery, force_feasible, max_len):\n",
    "    \"\"\" Gather Events from ACN-Data with a local cache. \"\"\"\n",
    "    event_name = f'{start}:{end}:{ideal_battery}:{force_feasible}:' \\\n",
    "                 f'{max_len}'\n",
    "    path = os.path.join(EVENTS_DIR, event_name + '.json')\n",
    "    if os.path.exists(path):\n",
    "        with open(path, 'r') as f:\n",
    "            return acnsim.EventQueue.from_json(f)\n",
    "    start_time = TIMEZONE.localize(datetime.strptime(start, '%m-%d-%Y'))\n",
    "    end_time = TIMEZONE.localize(datetime.strptime(end, '%m-%d-%Y'))\n",
    "    default_battery_power = 6.656\n",
    "    if ideal_battery:\n",
    "        battery_params=None\n",
    "    else:\n",
    "        battery_params={'type': acnsim.Linear2StageBattery,\n",
    "                        'capacity_fn': acnsim.models.battery.batt_cap_fn}\n",
    "    events = acnsim.acndata_events.generate_events(API_KEY, SITE,\n",
    "                                                   start_time, end_time,\n",
    "                                                   PERIOD, VOLTAGE,\n",
    "                                                   default_battery_power,\n",
    "                                                   force_feasible=force_feasible,\n",
    "                                                   max_len=max_len,\n",
    "                                                   battery_params=battery_params)\n",
    "    if not os.path.exists(EVENTS_DIR):\n",
    "        os.mkdir(EVENTS_DIR)\n",
    "    with open(path, 'w') as f:\n",
    "        events.to_json(f)\n",
    "    return events"
   ]
  },
  {
   "cell_type": "code",
   "execution_count": null,
   "metadata": {
    "pycharm": {
     "name": "#%%\n"
    }
   },
   "outputs": [],
   "source": [
    "class Experiment:\n",
    "    \"\"\" Wrapper for ACN-Sim Experiments including caching serialized experiment to disk. \"\"\"\n",
    "    def __init__(self, sim):\n",
    "        self.sim = sim\n",
    "\n",
    "    def calc_metrics(self):\n",
    "        \"\"\" Calculate metrics from simulation. \"\"\"\n",
    "        metrics = {\n",
    "            'proportion_delivered': analysis.proportion_of_energy_delivered(\n",
    "                self.sim) * 100,\n",
    "            'demands_fully_met': analysis.proportion_of_demands_met(\n",
    "                self.sim) * 100,\n",
    "            'peak_current': self.sim.peak,\n",
    "            'demand_charge': analysis.demand_charge(self.sim),\n",
    "            'energy_cost': analysis.energy_cost(self.sim),\n",
    "            'total_energy_delivered': analysis.total_energy_delivered(self.sim),\n",
    "            'total_energy_requested': analysis.total_energy_requested(self.sim)\n",
    "        }\n",
    "        return metrics\n",
    "\n",
    "    def log_local_file(self, path):\n",
    "        \"\"\" Write simulation, metrics and solver statistics to disk. \"\"\"\n",
    "        self.sim.to_json(path + 'sim.json')\n",
    "        with open(path + 'metrics.json', 'w') as outfile:\n",
    "            json.dump(self.calc_metrics(), outfile)\n",
    "        with open(path + 'solve_stats.json', 'w') as outfile:\n",
    "            json.dump(self.sim.scheduler.solve_stats, outfile)\n",
    "\n",
    "    def run_and_store(self, path):\n",
    "        \"\"\" Run experiment and store results. \"\"\"\n",
    "        print(f'Starting - {path}')\n",
    "        if os.path.exists(path + 'sim.json'):\n",
    "            print(f'Already Run - {path}...')\n",
    "            return\n",
    "        try:\n",
    "            self.sim.run()\n",
    "            if not os.path.exists(path):\n",
    "                os.makedirs(path)\n",
    "            self.log_local_file(path)\n",
    "            print(f'Done - {path}')\n",
    "        except Exception as e:\n",
    "            print(f'Failed - {path}')\n",
    "            print(e)"
   ]
  },
  {
   "cell_type": "code",
   "execution_count": null,
   "metadata": {
    "pycharm": {
     "name": "#%%\n"
    }
   },
   "outputs": [],
   "source": [
    "def configure_sim(\n",
    "    alg, \n",
    "    cap, \n",
    "    start, \n",
    "    events, \n",
    "    basic_evse=True,\n",
    "    estimate_max_rate=False, \n",
    "    uninterrupted_charging=False,\n",
    "    quantized=False,\n",
    "    allow_overcharging=False,\n",
    "    tariff_name=None,\n",
    "    offline=False\n",
    "):\n",
    "    \"\"\" Configure simulation. \"\"\"\n",
    "    start_time = TIMEZONE.localize(datetime.strptime(start, '%m-%d-%Y'))\n",
    "        \n",
    "    if estimate_max_rate:\n",
    "        alg.max_rate_estimator = algorithms.SimpleRampdown()\n",
    "        alg.estimate_max_rate = True\n",
    "    alg.uninterrupted_charging = uninterrupted_charging\n",
    "    alg.allow_overcharging = allow_overcharging\n",
    "\n",
    "    # Some algorithms support a quantized option\n",
    "    if quantized:\n",
    "        try:\n",
    "            alg.quantize = True\n",
    "        except:\n",
    "            pass\n",
    "        try:\n",
    "            alg.reallocate = True\n",
    "        except:\n",
    "            pass\n",
    "\n",
    "    cn = acnsim.sites.caltech_acn(voltage=VOLTAGE,\n",
    "                                  transformer_cap=cap,\n",
    "                                  basic_evse=basic_evse)\n",
    "    if tariff_name is not None:\n",
    "        signals = {'tariff': TimeOfUseTariff(tariff_name)}\n",
    "    else:\n",
    "        signals = {}\n",
    "    sim = acnsim.Simulator(cn, alg, events, start_time, signals=signals,\n",
    "                           period=PERIOD, verbose=False)\n",
    "    \n",
    "    if offline:\n",
    "        alg.register_events(events)\n",
    "        alg.solve()\n",
    "    \n",
    "    return sim"
   ]
  },
  {
   "cell_type": "markdown",
   "metadata": {},
   "source": [
    "## Experiment Configurations"
   ]
  },
  {
   "cell_type": "code",
   "execution_count": null,
   "metadata": {
    "pycharm": {
     "name": "#%%\n"
    }
   },
   "outputs": [],
   "source": [
    "start = '9-1-2018'\n",
    "end = '10-1-2018'\n",
    "tariff_name = 'sce_tou_ev_4_march_2019'\n",
    "revenue = 0.3\n",
    "# Scenario I is the offline optimal.\n",
    "scenarios = {\n",
    "                'II': {'ideal_battery': True,\n",
    "                      'estimate_max_rate': False,\n",
    "                      'uninterrupted_charging': False,\n",
    "                      'quantized': False,\n",
    "                      'basic_evse': True\n",
    "                },\n",
    "                'III': {'ideal_battery': True,\n",
    "                       'estimate_max_rate': False,\n",
    "                       'uninterrupted_charging': True,\n",
    "                       'quantized': True,\n",
    "                       'basic_evse': False\n",
    "                },\n",
    "                'IV': {'ideal_battery': False,\n",
    "                        'estimate_max_rate': True,\n",
    "                        'uninterrupted_charging': False,\n",
    "                        'quantized': False,\n",
    "                        'basic_evse': True\n",
    "                },\n",
    "                'V': {'ideal_battery': False,\n",
    "                       'estimate_max_rate': True,\n",
    "                       'uninterrupted_charging': True,\n",
    "                       'quantized': True,\n",
    "                       'basic_evse': False\n",
    "                },\n",
    "}"
   ]
  },
  {
   "cell_type": "markdown",
   "metadata": {},
   "source": [
    "## Energy delivered with constrained infrastructure\n",
    "\n",
    "**Note that these experiments can take a long time to run.**\n"
   ]
  },
  {
   "cell_type": "code",
   "execution_count": null,
   "metadata": {},
   "outputs": [],
   "source": [
    "energy_del_base_dir = 'results/infrastructure_utilization_results'"
   ]
  },
  {
   "cell_type": "markdown",
   "metadata": {},
   "source": [
    "### Running Experiments\n",
    "\n",
    "We first consider the objective of maximizing total energy delivered when infrastructure is oversubscribed. This is a common use case when electricity prices are static or when user satisfaction is the primary concern. To optimize for this operator objective, we use the Adaptive Scheduling Algorithm (ASA) with utility function\n",
    "\n",
    "\\begin{equation*}\n",
    "U^\\mathrm{QC}(r) := u^{QC}(r) + 10^{-12}u^{ES}(r)\n",
    "\\end{equation*}\n",
    "\n",
    "Here $U^{QC}$ encourages the system to deliver energy as quickly as possible, which helps free capacity for future arrivals. We include the regularizer $u^{ES}(r)$ to promote equal sharing between similar EVs and force a unique solution. We refer to this algorithm as ASA-QC. We set the weight of the $u^{ES}(r)$ term to be small enough to ensure a strict hierarchy of terms in the objective.\n",
    "\n",
    "To control congestion in the system, we vary the capacity of transformer $t_1$ between 20 and 150 kW. For reference, the actual transformer in our system is 150 kW, and a conventional system of this size would require 362 kW of capacity. We then measure the percent of the total energy demand met using ASA-QC as well as three baseline scheduling algorithms;  least laxity first (LLF), earliest deadline first (EDF), and round-robin (RR), as implemented in ACN-Sim and are described in (Lee, ACN-Sim, 2020). These baseline algorithms are very common in the deadline scheduling literature and have been applied previously to the EV charging domain (Xu, Dynamic, 2016)(Zeballos, Proportional, 2019}. In addition, the round robin algorithm is a generalization of the equal sharing algorithm used by many charging providers today."
   ]
  },
  {
   "cell_type": "code",
   "execution_count": null,
   "metadata": {},
   "outputs": [],
   "source": [
    "ALGS = dict()\n",
    "ALGS['LLF'] = algorithms.SortedSchedulingAlgo(algorithms.least_laxity_first)\n",
    "ALGS['EDF'] = algorithms.SortedSchedulingAlgo(algorithms.earliest_deadline_first)\n",
    "ALGS['RR'] = algorithms.RoundRobin(algorithms.first_come_first_served, continuous_inc=1)\n",
    "\n",
    "quick_charge_obj = [\n",
    "    ObjectiveComponent(quick_charge),\n",
    "    ObjectiveComponent(equal_share, 1e-12)\n",
    "]\n",
    "ALGS['ASA-QC'] = AdaptiveSchedulingAlgorithm(quick_charge_obj,\n",
    "                                             solver='MOSEK',\n",
    "                                             max_recompute=1)"
   ]
  },
  {
   "cell_type": "code",
   "execution_count": null,
   "metadata": {
    "pycharm": {
     "name": "#%%\n"
    }
   },
   "outputs": [],
   "source": [
    "# Online Algorithms\n",
    "caps = list(range(20, 81, 10)) + [150]\n",
    "for scenario_id, scenario in scenarios.items():\n",
    "    for cap in caps:\n",
    "        for alg in ['ASA-QC', 'LLF', 'EDF', 'RR']:\n",
    "            output_dir = f'{energy_del_base_dir}/{start}:{end}/{scenario_id}/{cap}/{alg}/'\n",
    "            events = get_events(start, end, scenario['ideal_battery'], FORCE_FEASIBLE, MAX_LEN)\n",
    "\n",
    "            sim = configure_sim(\n",
    "                cap=cap,\n",
    "                alg=deepcopy(ALGS[alg]),\n",
    "                start=start,\n",
    "                events=events,\n",
    "                basic_evse=scenario['basic_evse'],\n",
    "                estimate_max_rate=scenario['estimate_max_rate'],\n",
    "                uninterrupted_charging=scenario['uninterrupted_charging'],\n",
    "                quantized=scenario['quantized'],\n",
    "                tariff_name=tariff_name\n",
    "            )\n",
    "            ex = Experiment(sim)\n",
    "            ex.run_and_store(output_dir)"
   ]
  },
  {
   "cell_type": "markdown",
   "metadata": {},
   "source": [
    " We also consider the maximum energy that could be delivered by solving our optimization problem with objective\n",
    "\n",
    "\\begin{equation*}\n",
    "    U^\\mathrm{EM\\_OFF}(r) :=  \\sum_{\\substack{t \\in \\mathcal{T}\\\\i \\in \\mathcal{V}}} r_i(t)\n",
    "\\end{equation*}\n",
    "\n",
    "\\noindent and perfect foreknowledge of future arrivals, i.e. $\\mathcal{V}$ includes all EVs, not just those present at time $k$. We also modify the constraints so that EVs cannot charge before their arrival time. We refer to this as the *Optimal* solution."
   ]
  },
  {
   "cell_type": "code",
   "execution_count": null,
   "metadata": {
    "pycharm": {
     "name": "#%%\n"
    }
   },
   "outputs": [],
   "source": [
    "# Offline Optimal\n",
    "optimal_obj = [ObjectiveComponent(total_energy)]\n",
    "optimal_alg = AdaptiveChargingAlgorithmOffline(optimal_obj, solver='MOSEK')\n",
    "for cap in caps:\n",
    "    output_dir = f'{energy_del_base_dir}/{start}:{end}/I/{cap}/Optimal/'\n",
    "    events = get_events(start, end, True, FORCE_FEASIBLE, MAX_LEN)\n",
    "\n",
    "    sim = configure_sim(\n",
    "        cap=cap,\n",
    "        alg=deepcopy(optimal_alg),\n",
    "        start=start,\n",
    "        events=events,\n",
    "        basic_evse=True,\n",
    "        estimate_max_rate=False,\n",
    "        uninterrupted_charging=False,\n",
    "        quantized=False,\n",
    "        tariff_name=tariff_name,\n",
    "        offline=True\n",
    "    )\n",
    "    ex = Experiment(sim)\n",
    "    ex.run_and_store(output_dir)"
   ]
  },
  {
   "cell_type": "markdown",
   "metadata": {},
   "source": [
    "### Analysis\n",
    "\n",
    "Results from this experiment are shown below, from which we observe the following trends. \n",
    "\n",
    "1. In scenario II, ASA-QC performs near optimally (within 0.4\\%), and significantly outperforms the baselines (by as much as 14.1\\% compared to EDF with 30 kW capacity).\n",
    "2. In almost all cases, ASA-QC performs better than baselines, especially so in highly congested settings.\n",
    "3. Non-ideal EVSEs (scenarios III and V) have a large negative effect on ASA-QC, which we attribute to rounding of the optimal pilots and restriction of the feasible set.\n",
    "4. Surprisingly, non-ideal EVSEs increase the performance of LLF and EDF for transformer capacities $<$60 kW. This may be because the minimum current constraint leads to better phase balancing.\n",
    "5. Non-ideal batteries (scenarios IV and V) have relatively small effect on the performance of ASA-QC compared to baselines, indicating the robustness of the algorithm.\n",
    "\n",
    "To understand why ASA-QC performs so much better than the baselines, especially in scenario II, we must consider what information each algorithm uses. RR uses no information aside from which EVs are currently present, and as such, performs the worst. Likewise, EDF uses only information about departure time, while LLF also makes use of the EVs energy demand. Only ASA-QC actively optimizes over infrastructure constraints, allowing it to better balance phases (increasing throughput) and prioritize EVs including current and anticipated congestion. A key feature of the ASA framework is its ability to account for all available information cleanly.\\footnote{When even more information is available, i.e., a model of the vehicle's battery or predictions of future EV arrivals, this information can also be accounted for in the constraint set $\\mathcal{R}$ and objective $U(r)$. However, these formulations are outside the scope of this paper."
   ]
  },
  {
   "cell_type": "code",
   "execution_count": null,
   "metadata": {
    "pycharm": {
     "name": "#%%\n"
    }
   },
   "outputs": [],
   "source": [
    "def get_metric(results_dir, config, metric_name):\n",
    "    path = os.path.join(results_dir, f\"{config['start']}:{config['end']}\", config['scenario'],\n",
    "               str(config['cap']), config['alg'], 'metrics.json')\n",
    "    if not os.path.exists(path):\n",
    "        return float('nan')\n",
    "    with open(path) as f:\n",
    "        metrics = json.load(f)\n",
    "    if metric_name is None:\n",
    "        return metrics\n",
    "    else:   \n",
    "        return metrics[metric_name]\n",
    "\n",
    "def get_solve_stats(results_dir, config):\n",
    "    path = os.path.join(results_dir, f\"{config['start']}:{config['end']}\", config['scenario'],\n",
    "               str(config['cap']), config['alg'], 'solve_stats.json')\n",
    "    if not os.path.exists(path):\n",
    "        return float('nan')\n",
    "    with open(path) as f:\n",
    "        return json.load(f)\n",
    "\n",
    "def get_sim(results_dir, config):\n",
    "    path = os.path.join(results_dir, f\"{config['start']}:{config['end']}\", config['scenario'],\n",
    "               str(config['cap']), config['alg'], 'sim.json')\n",
    "    if not os.path.exists(path):\n",
    "        return None\n",
    "    with open(path) as f:\n",
    "        try:\n",
    "            return acnsim.Simulator.from_json(f)\n",
    "        except:\n",
    "            print(path)"
   ]
  },
  {
   "cell_type": "code",
   "execution_count": null,
   "metadata": {
    "pycharm": {
     "name": "#%%\n"
    }
   },
   "outputs": [],
   "source": [
    "start = '9-1-2018'\n",
    "end = '10-1-2018'\n",
    "caps = list(range(20, 81, 10)) + [150]\n",
    "algs = ['ASA-QC', 'LLF', 'EDF', 'RR']\n",
    "scenario_order = ['II', 'III', 'IV', 'V']\n",
    "percent_del = dict()\n",
    "\n",
    "percent_del['Optimal'] = np.full((1, len(caps)), np.nan)\n",
    "for col, cap in enumerate(caps):\n",
    "    config = {'scenario': 'I', 'start': start, 'end': end, 'cap': cap, 'alg': 'Optimal'}\n",
    "    percent_del['Optimal'][0, col] = get_metric(f'{energy_del_base_dir}/', config, 'proportion_delivered')\n",
    "\n",
    "for scenario in scenario_order:\n",
    "    percent_del[scenario] = np.full((len(algs), len(caps)), np.nan)\n",
    "    for row, alg in enumerate(algs):\n",
    "        for col, cap in enumerate(caps):\n",
    "            config = {'scenario': scenario, 'start': start, 'end': end, 'cap': cap, 'alg': alg}\n",
    "            percent_del[scenario][row, col] = get_metric(f'{energy_del_base_dir}/', config, 'proportion_delivered')"
   ]
  },
  {
   "cell_type": "code",
   "execution_count": null,
   "metadata": {
    "pycharm": {
     "name": "#%%\n"
    }
   },
   "outputs": [],
   "source": [
    "fig, ax = plt.subplots()\n",
    "ax.set_title(\"Percent of Energy Demands Met\")\n",
    "\n",
    "\n",
    "fig.set_size_inches(5, 6)\n",
    "labels = ['', 'Optimal',\n",
    "          '', 'ASA-QC', 'LLF', 'EDF', 'RR',\n",
    "          '', 'ASA-QC', 'LLF', 'EDF', 'RR',\n",
    "          '', 'ASA-QC', 'LLF', 'EDF', 'RR',\n",
    "          '', 'ASA-QC', 'LLF', 'EDF', 'RR']\n",
    "\n",
    "spacer = np.full((1, len(caps)), np.nan)\n",
    "stack = [spacer]\n",
    "stack.append(percent_del['Optimal'])\n",
    "for scenario in scenarios:\n",
    "    stack.append(spacer)\n",
    "    stack.append(percent_del[scenario])\n",
    "heatmap = np.vstack(stack)\n",
    "\n",
    "\n",
    "sns.heatmap(heatmap, annot=True, fmt='.1f', linewidth=1.5, ax=ax,\n",
    "            cbar=False, annot_kws= {'fontsize':9}, yticklabels=labels, xticklabels=caps)\n",
    "title_style = {'horizontalalignment': 'center', 'verticalalignment': 'center', 'fontsize': 10}\n",
    "vert_offset = 0.6\n",
    "ax.text(4, 0 + vert_offset, 'I. Offline Optimal', **title_style)\n",
    "ax.text(4, 2 + vert_offset, 'II. Ideal Battery / Continuous Pilot Signal', **title_style)\n",
    "ax.text(4, 7 + vert_offset, 'III. Ideal Battery / Quantized Pilot Signal', **title_style)\n",
    "ax.text(4, 12 + vert_offset, 'IV. Non-Ideal Battery / Continuous Pilot Signal', **title_style)\n",
    "ax.text(4, 17 + vert_offset, 'V. Non-Ideal Battery / Quantized Pilot Signal', **title_style)\n",
    "ax.set_xlabel('Transformer Capacity (kW)')\n",
    "ax.axvline(6.99, 21/22, 20/22, color='k', linewidth=0.5)\n",
    "ax.axvline(6.99, 19/22, 15/22, color='k', linewidth=0.5)\n",
    "ax.axvline(6.99, 19/22, 15/22, color='k', linewidth=0.5)\n",
    "ax.axvline(6.99, 14/22, 10/22, color='k', linewidth=0.5)\n",
    "ax.axvline(6.99, 9/22, 5/22, color='k', linewidth=0.5)\n",
    "ax.axvline(6.99, 4/22, 0/22, color='k', linewidth=0.5)\n",
    "\n",
    "ax.tick_params(axis=u'y', which=u'both',length=0)\n",
    "fig.tight_layout();"
   ]
  },
  {
   "cell_type": "code",
   "execution_count": null,
   "metadata": {
    "pycharm": {
     "name": "#%%\n"
    }
   },
   "outputs": [],
   "source": [
    "fig.savefig('figures/infrastructure_heatmap.pdf', dpi=150)"
   ]
  },
  {
   "cell_type": "code",
   "execution_count": null,
   "metadata": {
    "pycharm": {
     "name": "#%%\n"
    }
   },
   "outputs": [],
   "source": [
    "start = '9-1-2018'\n",
    "end = '10-1-2018'\n",
    "caps = list(range(20, 81, 10)) + [150]\n",
    "scenario_order = ['II', 'III', 'IV', 'V']\n",
    "algs = ['ASA-QC', 'LLF', 'EDF', 'RR']\n",
    "avg_solve_time = dict()\n",
    "for scenario in scenario_order:\n",
    "    avg_solve_time[scenario] = np.full((len(algs), len(caps)), np.nan)\n",
    "    for row, alg in enumerate(algs):\n",
    "        for col, cap in enumerate(caps):\n",
    "            config = {'scenario': scenario, 'start': start, 'end': end,\n",
    "                      'cap': cap, 'alg': alg}\n",
    "            try:\n",
    "                stats = pd.DataFrame(get_solve_stats(f'{energy_del_base_dir}/', config))\n",
    "                stats = stats[stats['active_sessions'] > 25]\n",
    "                avg_solve_time[scenario][row, col] = stats['solve_time'].mean()\n",
    "            except:\n",
    "                pass"
   ]
  },
  {
   "cell_type": "code",
   "execution_count": null,
   "metadata": {
    "pycharm": {
     "name": "#%%\n"
    }
   },
   "outputs": [],
   "source": [
    "fig, ax = plt.subplots()\n",
    "ax.set_title(\"Average Solve Time\")\n",
    "fig.set_size_inches(5, 6)\n",
    "labels = ['', 'ASA-QC', 'LLF', 'EDF', 'RR',\n",
    "          '', 'ASA-QC', 'LLF', 'EDF', 'RR',\n",
    "          '', 'ASA-QC', 'LLF', 'EDF', 'RR',\n",
    "          '', 'ASA-QC', 'LLF', 'EDF', 'RR']\n",
    "\n",
    "stack = []\n",
    "spacer = np.full((1, len(caps)), np.nan)\n",
    "for scenario in scenarios:\n",
    "    stack.append(spacer)\n",
    "    stack.append(avg_solve_time[scenario])\n",
    "heatmap = np.vstack(stack)\n",
    "\n",
    "\n",
    "sns.heatmap(heatmap, annot=True, fmt='.1f', linewidth=1.5, ax=ax,\n",
    "            cbar=False, annot_kws= {'fontsize':9}, yticklabels=labels, xticklabels=caps)\n",
    "title_style = {'horizontalalignment': 'center', 'verticalalignment': 'center', 'fontsize': 10}\n",
    "vert_offset = 0.6\n",
    "ax.text(4, 0 + vert_offset, 'II. Ideal Battery / Continuous Pilot Signal', **title_style)\n",
    "ax.text(4, 5 + vert_offset, 'III. Ideal Battery / Quantized Pilot Signal', **title_style)\n",
    "ax.text(4, 10 + vert_offset, 'IV. Non-Ideal Battery / Continuous Pilot Signal', **title_style)\n",
    "ax.text(4, 15 + vert_offset, 'V. Non-Ideal Battery / Quantized Pilot Signal', **title_style)\n",
    "ax.set_xlabel('Transformer Capacity (kW)')\n",
    "\n",
    "ax.tick_params(axis=u'y', which=u'both',length=0)\n",
    "fig.tight_layout();"
   ]
  },
  {
   "cell_type": "markdown",
   "metadata": {},
   "source": [
    "## Profit maximization with TOU tariffs and demand charge\n"
   ]
  },
  {
   "cell_type": "code",
   "execution_count": null,
   "metadata": {},
   "outputs": [],
   "source": [
    "profit_max_base_dir = 'results/profit_max_results'"
   ]
  },
  {
   "cell_type": "markdown",
   "metadata": {},
   "source": [
    "### Running Experiments\n",
    "\n",
    "Next, we consider the case where a site host would like to minimize their operating costs. Within this case, we will consider the Southern California Edison TOU EV-4 tariff schedule for separately metered EV charging systems between 20-500~kW. In each case, we assume that the charging system operator has a fixed revenue of \\$0.30\\/kWh and only delivers energy when their marginal cost is less than this revenue. \n",
    "\n",
    "In order to maximize profit, we use the objective:\n",
    "\n",
    "\\begin{equation*}\n",
    "    U^\\mathrm{PM} := u^{EC} + u^{DC} + 10^{-6}u^{QC} + 10^{ -12}u^{ES}\n",
    "\\end{equation*}\n",
    "\n",
    "\\noindent We denote the ASA algorithm with this objective ASA-PM.\n",
    "\n",
    "The revenue term $\\pi$ in $u^{EC}$ can have several interpretations. In the most straightforward case, $\\pi$ is simply the price paid by users. However, $\\pi$ can also include subsidies by employers, governments, automakers, or carbon credits through programs like the California Low-Carbon Fuel Standard (LCFS). For example, LCFS credits for EV charging have averaged between $0.13 - $0.16 / kWh in 2018-2019. In these cases, some energy demands might not be met if the marginal price of that energy exceeds $\\pi$. This is especially important when demand charge is considered since the marginal cost can be extremely high if it causes a spike above the previous monthly peak. Alternatively, $\\pi$ can be set to a very high value (greater than the maximum marginal cost of energy) and act as a non-completion penalty. When this is the case, the algorithm will attempt to minimize costs while meeting all energy demands (when it is feasible to do so).\n",
    "\n",
    "In $u^{DC}$, $\\hat{P}$ and $q'$ are tunable parameters. The demand charge proxy $\\hat{P}$ controls the trade-off between energy costs and demand charges in the online problem. In this case, we use the heuristic proposed in (Lee, Pricing, 2020), $\\hat{P} = P/(D_p - d)$, where $D_p$ is the number of days in the billing period, and $d$ is the index of the current day. We will consider one version of the algorithm without a peak hint, e.g. $q'=0$, and one where the peak hint is 75\\% of the optimal peak calculated using data from the previous month. This percentage is chosen based on maximum historic month-to-month variability in the optimal peak (+11\\%/-16\\%).\n",
    "\n",
    "We also include the quick charge objective as a regularizer, which encourages the scheduling algorithm to front-load charging within a TOU period. To ensure that this regularizer does not lead to a large increase in cost, we use a coefficient of $10^{-6}$. This results in an maximum increase in value of \\$0.000058 / kWh, which is an three orders of magnitude lower than the minimum cost of energy.\n",
    "\n",
    "We fix the transformer capacity to 150~kW and consider the previous baselines along with uncontrolled charging, which is the most common type of charging system today."
   ]
  },
  {
   "cell_type": "code",
   "execution_count": null,
   "metadata": {},
   "outputs": [],
   "source": [
    "def days_remaining_scale_demand_charge(rates, infrastructure, interface,\n",
    "                                       baseline_peak=0, **kwargs):\n",
    "    \"\"\" Demand Charge Proxy which divideds the demand charge over the remaining days in the billing period. \"\"\"\n",
    "    day_index = interface.current_time // ((60 / interface.period) * 24)\n",
    "    days_in_month = 30 #monthrange(year, month)[1]\n",
    "    day_index = min(day_index, days_in_month - 1)\n",
    "    scale = 1 / (days_in_month - day_index)\n",
    "    dc = demand_charge(rates, infrastructure, interface, baseline_peak,\n",
    "                       **kwargs)\n",
    "    return scale * dc\n",
    "\n",
    "ALGS = dict()\n",
    "ALGS['Unctrl'] = algorithms.UncontrolledCharging()\n",
    "ALGS['LLF'] = algorithms.SortedSchedulingAlgo(algorithms.least_laxity_first)\n",
    "ALGS['EDF'] = algorithms.SortedSchedulingAlgo(algorithms.earliest_deadline_first)\n",
    "ALGS['RR'] = algorithms.RoundRobin(algorithms.first_come_first_served, continuous_inc=1)\n",
    "\n",
    "profit_max_obj_no_hint = [\n",
    "    ObjectiveComponent(total_energy, revenue),\n",
    "    ObjectiveComponent(tou_energy_cost),\n",
    "    ObjectiveComponent(days_remaining_scale_demand_charge),\n",
    "    ObjectiveComponent(quick_charge, 1e-6),\n",
    "    ObjectiveComponent(equal_share, 1e-12)\n",
    "]\n",
    "ALGS['ASA-PM'] =  AdaptiveSchedulingAlgorithm(profit_max_obj_no_hint,\n",
    "                                                          solver='MOSEK',\n",
    "                                                          max_recompute=1)\n",
    "\n",
    "profit_max_obj_w_hint = [\n",
    "    ObjectiveComponent(total_energy, revenue),\n",
    "    ObjectiveComponent(tou_energy_cost),\n",
    "    # This peak estimate is taken from Aug 2018.\n",
    "    ObjectiveComponent(days_remaining_scale_demand_charge, 1,\n",
    "                       {'baseline_peak': 66.56 *.75}),\n",
    "    ObjectiveComponent(quick_charge, 1e-6),\n",
    "    ObjectiveComponent(equal_share, 1e-12)]\n",
    "ALGS['ASA-PM-Hint'] = AdaptiveSchedulingAlgorithm(profit_max_obj_w_hint,\n",
    "                                                     solver='MOSEK',\n",
    "                                                     max_recompute=1)"
   ]
  },
  {
   "cell_type": "code",
   "execution_count": null,
   "metadata": {
    "jupyter": {
     "outputs_hidden": true
    },
    "pycharm": {
     "name": "#%%\n"
    }
   },
   "outputs": [],
   "source": [
    "# Online Algorithms\n",
    "for scenario_id, scenario in scenarios.items():\n",
    "    for alg in ALGS:\n",
    "        output_dir = f'{profit_max_base_dir}/{start}:{end}/{tariff_name}/{revenue}/' \\\n",
    "                     f'{scenario_id}/{cap}/{alg}/'\n",
    "        events = get_events(start, end, scenario['ideal_battery'],\n",
    "                            FORCE_FEASIBLE, MAX_LEN)\n",
    "        sim = configure_sim(\n",
    "            cap=cap,\n",
    "            alg=deepcopy(ALGS[alg]),\n",
    "            start=start,\n",
    "            events=events,\n",
    "            basic_evse=scenario['basic_evse'],\n",
    "            estimate_max_rate=scenario['estimate_max_rate'],\n",
    "            uninterrupted_charging=scenario['uninterrupted_charging'],\n",
    "            quantized=scenario['quantized'],\n",
    "            tariff_name=tariff_name\n",
    "        )\n",
    "        ex = Experiment(sim)\n",
    "        ex.run_and_store(output_dir)"
   ]
  },
  {
   "cell_type": "markdown",
   "metadata": {},
   "source": [
    "We also consider the optimal profit possible by solving an optimization with perfect foreknowledge of arrivals and objective:\n",
    "\n",
    "\\begin{equation*}\n",
    "U^\\mathrm{PM\\_OFF} := u^{EC} + u^{DC}\n",
    "\\end{equation*}\n",
    "\n",
    "with $\\hat{P} = P$, $q'=0$."
   ]
  },
  {
   "cell_type": "code",
   "execution_count": null,
   "metadata": {},
   "outputs": [],
   "source": [
    "# Offline Optimal\n",
    "optimal_obj = [ObjectiveComponent(total_energy, revenue),\n",
    "               ObjectiveComponent(tou_energy_cost),\n",
    "               ObjectiveComponent(demand_charge)]\n",
    "optimal_alg = AdaptiveChargingAlgorithmOffline(optimal_obj, solver='MOSEK')\n",
    "output_dir = f'{profit_max_base_dir}/{start}:{end}/{tariff_name}/{revenue}/I/{cap}/Optimal/'\n",
    "events = get_events(start, end, True, FORCE_FEASIBLE, MAX_LEN)\n",
    "sim = configure_sim(alg=deepcopy(optimal_alg),\n",
    "                    cap=cap,\n",
    "                    start=start,\n",
    "                    events=events,\n",
    "                    tariff_name=tariff_name\n",
    ")\n",
    "ex = Experiment(sim)\n",
    "ex.run_and_store(output_dir)"
   ]
  },
  {
   "cell_type": "markdown",
   "metadata": {},
   "source": [
    "### Analysis\n",
    "\n",
    "Results of the experiment are shown below, from which we observe:\n",
    "\n",
    "1. Profits from both ASA-PM and ASA-PM w/ Hint, are within 3.6\\% and 1.9\\% of the optimal respectively, and far exceed the profits of all baseline algorithms.\n",
    "1. Uncontrolled, LLF and RR result in \\emph{lower} energy costs, but incur *very high* demand charges. These algorithms are not price aware. Instead low energy costs are a result of drivers arriving during off-peak and mid-peak times. In particular, uncontrolled charging, which does not consider an infrastructure limit, leads to \\emph{extremely high} demand charges. On the other hand, both ASA-PM algorithms (and the offline optimal) trade-off higher energy costs for much lower peaks resulting in lower overall costs.\n",
    "1. Providing a peak hint to ASA-PM increases revenue by allowing more energy demands to be met. In this case, 97.8\\% vs. 95.6\\% without peak hints. Accurate hints allow the algorithm to utilize higher capacity earlier in the billing period, increasing throughput without increasing cost. Even with the peak hint, ASA-PM does not meet 100\\% of demands even though the offline optimal does. Since ASA-PM does not have knowledge of future arrivals, it must act conservatively in increasing the peak over time. It is, however, important that hints not be too large, as the algorithm can increase the peak as needed, but once a high peak is set, the demand charge cannot be lowered.\n",
    "1. While EVSE quantization and non-ideal batteries each reduce the operator's profit, even in scenario V, ASA-PM w/ Hint still produces 90\\% of the optimal profit.\n",
    "1. Interestingly, revenue increases in scenarios with quantization (III and V). It can be hard to reason about exactly why this occurs, though it appears that the post-processing step leads to initial conditions for the next solve of **OPT** to produce a higher revenue, higher cost solution. \n",
    "1. Because we use real tariffs structures, real workloads, and realistic assumptions (scenario V), we can conclude with reasonable certainty that a charging system operator could expect to net approximately \\$2,600~/~month using an ACN like system, compared to just \\$763~/~month in a conventional, uncontrolled system."
   ]
  },
  {
   "cell_type": "code",
   "execution_count": null,
   "metadata": {},
   "outputs": [],
   "source": [
    "def get_profit_max_metrics(results_dir, config):\n",
    "    path = os.path.join(results_dir, f\"{config['start']}:{config['end']}\", config['tariff'], \n",
    "                        str(config['revenue']), config['scenario'], str(config['cap']), config['alg'], \n",
    "                        'metrics.json')\n",
    "    if not os.path.exists(path):\n",
    "        print(path)\n",
    "        return {}\n",
    "    with open(path) as f:\n",
    "        metrics = json.load(f)\n",
    "    return metrics"
   ]
  },
  {
   "cell_type": "code",
   "execution_count": null,
   "metadata": {},
   "outputs": [],
   "source": [
    "algs = ['Unctrl', 'LLF', 'RR', 'ASA-PM', 'ASA-PM-Hint']\n",
    "scenario_order = ['II', 'III', 'IV', 'V']\n",
    "cap = 150\n",
    "data = []\n",
    "\n",
    "config = {'scenario': 'I', 'start': start, 'end': end, 'cap': cap, 'alg': 'Optimal', 'tariff': tariff_name, 'revenue': revenue}\n",
    "opt_metrics = get_profit_max_metrics(f'{profit_max_base_dir}/', config)\n",
    "opt_metrics['scenario'] = 'I'\n",
    "opt_metrics['alg'] = 'Optimal'\n",
    "data.append(opt_metrics)\n",
    "\n",
    "for scenario in scenario_order:\n",
    "    for row, alg in enumerate(algs):\n",
    "        config = {'scenario': scenario, 'start': start, 'end': end,\n",
    "                  'cap': cap, 'alg': alg, 'tariff': tariff_name, 'revenue': revenue}\n",
    "        metrics = get_profit_max_metrics(f'{profit_max_base_dir}/', config)\n",
    "        metrics['scenario'] = scenario\n",
    "        if alg == 'ASA-PM-Hint':\n",
    "            alg = 'ASA-PM w/ Hint'\n",
    "        metrics['alg'] = alg\n",
    "        data.append(metrics)"
   ]
  },
  {
   "cell_type": "code",
   "execution_count": null,
   "metadata": {},
   "outputs": [],
   "source": [
    "df = pd.DataFrame(data)\n",
    "requested = 20598.87 # total requested kWh\n",
    "df['revenue'] = df['proportion_delivered'] / 100 * requested * revenue\n",
    "df['total_cost'] = df['demand_charge'] + df['energy_cost']\n",
    "df['profit'] = df['revenue'] - df['total_cost']"
   ]
  },
  {
   "cell_type": "code",
   "execution_count": null,
   "metadata": {},
   "outputs": [],
   "source": [
    "# Show Experiment Results\n",
    "df"
   ]
  },
  {
   "cell_type": "code",
   "execution_count": null,
   "metadata": {},
   "outputs": [],
   "source": [
    "cmap = sns.diverging_palette(220, 20, n=10)\n",
    "colors = [cmap[1], cmap[2], cmap[3], cmap[7], cmap[8]]\n",
    "opt_color = cmap[9]\n",
    "bar_width = 0.75\n",
    "\n",
    "order = ['Unctrl', 'RR', 'LLF', 'ASA-PM', 'ASA-PM w/ Hint']\n",
    "fig, ax = plt.subplots(4, 1, figsize=(4, 5), sharex=True)\n",
    "pt = df.pivot(index='scenario', columns='alg')\n",
    "\n",
    "# Revenue\n",
    "pt['revenue'][order].loc[scenarios].plot.bar(ax=ax[0], linewidth=1, edgecolor='w', color=colors, width=bar_width, legend=False)\n",
    "ax[0].fill_between([-1, 5], 0, pt['revenue']['Optimal']['I'], facecolor='grey', alpha=0.25,  label='Optimal')\n",
    "lgd = ax[0].legend(bbox_to_anchor=(0., 1.1, 1., .102), loc=3, ncol=3, mode=\"expand\", borderaxespad=0., fontsize=9)\n",
    "ax[0].set_ylim(5600, 6300)\n",
    "ax[0].set_ylabel('Revenue ($)')\n",
    "\n",
    "# Energy Cost\n",
    "pt['energy_cost'][order].loc[scenarios].plot.bar(ax=ax[1], linewidth=1, edgecolor='w', color=colors, width=bar_width, legend=False)\n",
    "ax[1].fill_between([-1, 5], 0, pt['energy_cost']['Optimal']['I'], facecolor='grey', alpha=0.25)\n",
    "ax[1].set_ylim(2000, 2550)\n",
    "ax[1].set_ylabel('Energy\\nCost ($)')\n",
    "\n",
    "# Demand Charge\n",
    "pt['demand_charge'][order].loc[scenarios].plot.bar(ax=ax[2], linewidth=1, edgecolor='w', color=colors, width=bar_width, legend=False)\n",
    "ax[2].fill_between([-1, 5], 0, pt['demand_charge']['Optimal']['I'], facecolor='grey', alpha=0.25)\n",
    "ax[2].set_ylim(0, 3500)\n",
    "ax[2].set_ylabel('Demand\\nCharge ($)')\n",
    "\n",
    "# Profit\n",
    "pt['profit'][order].loc[scenarios].plot.bar(ax=ax[3], linewidth=1, edgecolor='w', color=colors, width=bar_width, legend=False)\n",
    "ax[3].fill_between([-1, 5], 0, pt['profit']['Optimal']['I'], facecolor='grey', alpha=0.25, label='Optimal')\n",
    "ax[3].set_ylim(0, 3250)\n",
    "ax[3].set_ylabel('Profit ($)')\n",
    "\n",
    "plt.xticks(rotation=0)\n",
    "ax[3].set_xlabel('Scenario')\n",
    "plt.tight_layout()"
   ]
  },
  {
   "cell_type": "code",
   "execution_count": null,
   "metadata": {},
   "outputs": [],
   "source": [
    "fig.savefig('figures/profit_maximization.pdf', dpi=150)"
   ]
  },
  {
   "cell_type": "markdown",
   "metadata": {},
   "source": [
    "#### Percentage of Optimal Profit"
   ]
  },
  {
   "cell_type": "code",
   "execution_count": null,
   "metadata": {},
   "outputs": [],
   "source": [
    "pt['profit'] /pt['profit']['Optimal']['I']"
   ]
  },
  {
   "cell_type": "code",
   "execution_count": null,
   "metadata": {},
   "outputs": [],
   "source": []
  }
 ],
 "metadata": {
  "kernelspec": {
   "display_name": "Python 3",
   "language": "python",
   "name": "python3"
  },
  "language_info": {
   "codemirror_mode": {
    "name": "ipython",
    "version": 3
   },
   "file_extension": ".py",
   "mimetype": "text/x-python",
   "name": "python",
   "nbconvert_exporter": "python",
   "pygments_lexer": "ipython3",
   "version": "3.8.5"
  }
 },
 "nbformat": 4,
 "nbformat_minor": 4
}
