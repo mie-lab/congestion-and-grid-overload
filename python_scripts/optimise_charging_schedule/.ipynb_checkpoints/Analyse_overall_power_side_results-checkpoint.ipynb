{
 "cells": [
  {
   "cell_type": "code",
   "execution_count": 71,
   "metadata": {},
   "outputs": [],
   "source": [
    "folder_names = [\\\n",
    "                \".\",\\\n",
    "#                 \"dummy-all-parts-of-cost-opt\",\\\n",
    "#                 \"dummy-using-load-flattening\",\n",
    "#                 \"dummy-load-flat-withqc\",\n",
    "#                 \"demand-cost-with-quickcharge\",\n",
    "#                 \"dummy-demand\",\\\n",
    "#                 \"dummy-demand-opt-only-energy\",\\\n",
    "#                 \"dummy-run-opt-only-total-energy\",\\\n",
    "#                 \"Unctrl-5-accidents\",\n",
    "#                 |\"continuous-0_5_penetration_same_objective_across_ASA_Offline\", \\\n",
    "#                 \"continuous-0_5_penetration_same_objective_across_ASA_Offline_quantised_and_uninterrupted\"]\n",
    "                # [\"continuous_signals\", \"discrete_signals\", \\\n",
    "                # \"discrete_and_uninterrupted\", \"continuous_fixed_departure\", \"continuous_not_fixed_75KW\"]\n",
    "               ]\n",
    "        \n",
    "accident_scenario_names = [\"no-accident\", \"45-mins-accident-1-cap-start-7am\", \\\n",
    "                           \"90-mins-accident-1-cap-start-7am\",\"45-mins-accident-1-cap-start-9am\",\\\n",
    "                          \"90-mins-accident-50-cap-start-6am\",\n",
    "                          \"2-plus-1-scenario\"]\n",
    "\n",
    "cost_per_unit = [0, 8*12, 12*12, 18*12, 23*12]\n",
    "time_stamp_cost = [0, 8*12, 12*12, 18*12, 23*12]\n"
   ]
  },
  {
   "cell_type": "code",
   "execution_count": 72,
   "metadata": {},
   "outputs": [
    {
     "name": "stderr",
     "output_type": "stream",
     "text": [
      "No artists with labels found to put in legend.  Note that artists whose label start with an underscore are ignored when legend() is called with no argument.\n"
     ]
    },
    {
     "data": {
      "image/png": "[encoded data removed]",
      "text/plain": [
       "<Figure size 432x288 with 1 Axes>"
      ]
     },
     "metadata": {
      "needs_background": "light"
     },
     "output_type": "display_data"
    }
   ],
   "source": [
    "# ! pip install python-slugify\n",
    "\n",
    "# Answering RQ1:\n",
    "# comparing Unctrl across accident scenarios\n",
    "\n",
    "\n",
    "import numpy as np\n",
    "import pandas as pd\n",
    "import matplotlib.pyplot as plt\n",
    "from slugify import slugify\n",
    "import os\n",
    "\n",
    "for folder in folder_names:\n",
    "    df = pd.read_csv(folder+\"/\" + \"overall_power_side_results.csv\", usecols=range(14)) # , usecols=range(14,214))\n",
    "    df.head()\n",
    "    max_len = df.num_time_steps.max()\n",
    "    a = {}\n",
    "\n",
    "    with open(folder+\"/\"+\"overall_power_side_results.csv\") as f:\n",
    "        next(f)\n",
    "        counter = 0\n",
    "        for row in f:        \n",
    "            listed = row.strip().split(\",\")\n",
    "            zeros = np.array([0]*max_len)\n",
    "            zeros[:df.num_time_steps.iloc[counter]] = [float(x) for x in listed[14:]]\n",
    "            a[tuple(listed[:5])] = zeros.tolist()\n",
    "            counter += 1\n",
    "    # print (a)\n",
    "\n",
    "    \n",
    "    agg = {}\n",
    "\n",
    "    for scenario in accident_scenario_names:\n",
    "        for algo in [\"Unctrl\"]:\n",
    "            for key in a:\n",
    "                if scenario not in str(key):\n",
    "                    continue\n",
    "                if algo not in str(key):\n",
    "                    continue\n",
    "\n",
    "                if (scenario, algo) in agg:\n",
    "                    agg[scenario, algo].append(a[key])\n",
    "                else:\n",
    "                    agg[scenario, algo] = [ a[key] ]\n",
    "\n",
    "\n",
    "    for key in agg:\n",
    "        agg[key] = [sum(i) for i in zip(*agg[key])]\n",
    "        style = \"-\"\n",
    "        if True: # \"no-accident\" in key:\n",
    "            alpha = 1\n",
    "            style = \"--\"\n",
    "        else:\n",
    "            alpha=0.6\n",
    "#             style=\"--\"\n",
    "#         if \"45-min\" or  in key:\n",
    "#             alpha=1\n",
    "#             style='-'\n",
    "#         if \"RR\" in key:\n",
    "#             color = \"cyan\"\n",
    "#         if \"Unctrl\" in key:\n",
    "#             color = \"g\"\n",
    "#         if \"Offline\" in key:\n",
    "#             color = \"b\"   \n",
    "#         if \"ASA\" in key:\n",
    "#             color = \"magenta\"           \n",
    "\n",
    "#         plt.plot(agg[key], label=key, alpha=alpha, color=color, linestyle=style)\n",
    "        plt.plot(agg[key], label=key, alpha=alpha, linestyle=style)\n",
    "\n",
    "    plt.legend(fontsize=6)\n",
    "    plt.xlabel(\"Time of day (Unit 5 minutes)\")\n",
    "    plt.ylabel(\"Aggregate power across all hubs\")\n",
    "    plt.title(slugify(folder))\n",
    "    plt.savefig(os.path.join(folder, slugify(\"Aggregate power across all hubs-\") + \\\n",
    "                             slugify(folder)+ \".png\"), dpi=600)\n",
    "    plt.show()"
   ]
  },
  {
   "cell_type": "code",
   "execution_count": null,
   "metadata": {},
   "outputs": [],
   "source": []
  },
  {
   "cell_type": "code",
   "execution_count": 86,
   "metadata": {},
   "outputs": [
    {
     "data": {
      "image/png": "[encoded data removed]",
      "text/plain": [
       "<Figure size 432x288 with 1 Axes>"
      ]
     },
     "metadata": {
      "needs_background": "light"
     },
     "output_type": "display_data"
    }
   ],
   "source": [
    "# ! pip install python-slugify\n",
    "\n",
    "import numpy as np\n",
    "import pandas as pd\n",
    "import matplotlib.pyplot as plt\n",
    "from slugify import slugify\n",
    "\n",
    "alpha = 0.4 \n",
    "style = '-'\n",
    "\n",
    "for folder in folder_names:\n",
    "    df = pd.read_csv(folder+\"/\" + \"overall_power_side_results.csv\", usecols=range(14)) # , usecols=range(14,214))\n",
    "    df.head()\n",
    "    max_len = df.num_time_steps.max()\n",
    "    a = {}\n",
    "\n",
    "    with open(folder+\"/\"+\"overall_power_side_results.csv\") as f:\n",
    "        next(f)\n",
    "        counter = 0\n",
    "        for row in f:        \n",
    "            listed = row.strip().split(\",\")\n",
    "            zeros = np.array([0]*max_len)\n",
    "            zeros[:df.num_time_steps.iloc[counter]] = [float(x) for x in listed[14:]]\n",
    "            a[tuple(listed[:5])] = zeros.tolist()\n",
    "            counter += 1\n",
    "    # print (a)\n",
    "\n",
    "    \n",
    "    agg = {}\n",
    "\n",
    "    for scenario in accident_scenario_names:\n",
    "        for algo in [\"RR\", \"Unctrl\", \"Offline\", \"ASA\", \"ASA-Wrong-Pred\"]:\n",
    "            for key in a:\n",
    "                if scenario not in str(key):\n",
    "                    continue\n",
    "                if algo != str(key[3]):\n",
    "                    continue\n",
    "\n",
    "                if (scenario, algo) in agg:\n",
    "                    agg[scenario, algo].append(a[key])\n",
    "                else:\n",
    "                    agg[scenario, algo] = [ a[key] ]\n",
    "\n",
    "\n",
    "    for key in agg:\n",
    "        agg[key] = [sum(i) for i in zip(*agg[key])]\n",
    "#         if \"no-accident\" in key:\n",
    "#             alpha = 0.4\n",
    "#             style=\"--\"\n",
    "#         if \"45-min\" in key:\n",
    "#             alpha=1\n",
    "#             style='-'\n",
    "#         if \"RR\" in key:\n",
    "#             color = \"cyan\"\n",
    "#         if \"Unctrl\" in key:\n",
    "#             color = \"g\"\n",
    "#         if \"Offline\" in key:\n",
    "#             color = \"b\"   \n",
    "        if \"ASA\" == key[1]:\n",
    "            color = \"magenta\"              \n",
    "        if \"ASA-Wrong-Pred\" == key[1]:\n",
    "            color = \"orange\"                          \n",
    "\n",
    "        plt.plot(agg[key], label=key, alpha=alpha, color=color, linestyle=style)\n",
    "\n",
    "    plt.legend(fontsize=9)\n",
    "    plt.xlabel(\"Time of day (Unit 5 minutes)\")\n",
    "    plt.ylabel(\"Aggregate power across all hubs\")\n",
    "    plt.title(slugify(folder))\n",
    "    \n",
    "#     scaling = 250\n",
    "#     plt.plot(time_stamp_cost, [x* scaling for x in cost_per_unit], color=\"black\", label=\"Cost\")\n",
    "    \n",
    "    plt.savefig(slugify(\"Aggregate power across all hubs-\")+slugify(folder)+ \".png\", dpi=600)\n",
    "    plt.show()"
   ]
  },
  {
   "cell_type": "code",
   "execution_count": 85,
   "metadata": {},
   "outputs": [
    {
     "data": {
      "text/plain": [
       "('2-plus-1-scenario', '150', 'II', 'ASA-Wrong-Pred', '18')"
      ]
     },
     "execution_count": 85,
     "metadata": {},
     "output_type": "execute_result"
    }
   ],
   "source": [
    "key"
   ]
  },
  {
   "cell_type": "code",
   "execution_count": null,
   "metadata": {},
   "outputs": [],
   "source": []
  },
  {
   "cell_type": "code",
   "execution_count": 132,
   "metadata": {},
   "outputs": [
    {
     "name": "stdout",
     "output_type": "stream",
     "text": [
      "agg.keys() : dict_keys([('2-plus-1-scenario', 'ASA'), ('2-plus-1-scenario', 'ASA-Wrong-Pred')])\n"
     ]
    },
    {
     "data": {
      "image/png": "[encoded data removed]",
      "text/plain": [
       "<Figure size 432x288 with 1 Axes>"
      ]
     },
     "metadata": {
      "needs_background": "light"
     },
     "output_type": "display_data"
    }
   ],
   "source": [
    "\n",
    "import pandas as pd\n",
    "import numpy as np\n",
    "from tqdm import tqdm\n",
    "from smartprint import smartprint as sprint\n",
    "\n",
    "\n",
    "for folder in folder_names:\n",
    "    try:\n",
    "        for col_ in range(100, 300, 5):\n",
    "            df = pd.read_csv(folder+\"/\"+ \"overall_power_side_results_total_energy_demand_met_by_now.csv\", usecols=range(col_), header=None)\n",
    "            \n",
    "    except:\n",
    "        pass\n",
    "        \n",
    "    df = df.fillna(0)\n",
    "#     print (df.head())\n",
    "\n",
    "    import numpy as np\n",
    "    import matplotlib.pyplot as plt\n",
    "\n",
    "    agg = {}\n",
    "\n",
    "    for i in range(df.shape[0]):\n",
    "        key = df.iloc[i, 0] #  \"\".join(df.iloc[i, :2].tolist())\n",
    "    #     print (str(key))\n",
    "        for scenario in accident_scenario_names:\n",
    "            for algo in [\"RR\", \"Unctrl\", \"Offline\", \"ASA\", \"ASA-Wrong-Pred\"]:\n",
    "\n",
    "                if scenario not in str(key):\n",
    "                    continue\n",
    "\n",
    "                if algo != eval(str(key.strip().split(\",\")[3].strip())):\n",
    "                    continue\n",
    "                \n",
    "                L = df.iloc[i,1:].tolist()\n",
    "                L = [float(x) for x in L]\n",
    "                if (scenario, algo) in agg:\n",
    "                    agg[scenario, algo].append(L)\n",
    "                else:\n",
    "                    agg[scenario, algo] = [L]\n",
    "    sprint (agg.keys())\n",
    "\n",
    "    for key in agg:\n",
    "        agg[key] = [sum(i) for i in zip(*agg[key])]\n",
    "#         if \"no-accident\" in key:\n",
    "#             alpha = 0.4\n",
    "#             style=\"--\"\n",
    "#         if \"45-min\" in key:\n",
    "#             alpha=1\n",
    "#             style='-'\n",
    "#         if \"RR\" in key:\n",
    "#             color = \"cyan\"\n",
    "#         if \"Unctrl\" in key:\n",
    "#             color = \"g\"\n",
    "#         if \"Offline\" in key:\n",
    "#             color = \"b\"   \n",
    "        if \"ASA\" != key[1]:\n",
    "            color = \"magenta\"              \n",
    "        if \"ASA-Wrong-Pred\" != key[1]:\n",
    "            color = \"orange\"                \n",
    "        \n",
    "        plt.plot(agg[key], label=key, alpha=alpha, color=color, linestyle=style)\n",
    "    \n",
    "    plt.legend(fontsize=9)\n",
    "    plt.title(slugify(folder))    \n",
    "    plt.xlabel(\"Time of day (Unit 5 minutes)\")\n",
    "    plt.ylabel(\"Energy unmet demand remaining until now\")\n",
    "    plt.savefig(slugify(\"Aggregate-unmet-demand-energy-until-now\") + slugify(folder) + \".png\", dpi=600)\n",
    "\n",
    "    plt.show()"
   ]
  },
  {
   "cell_type": "code",
   "execution_count": 130,
   "metadata": {},
   "outputs": [
    {
     "data": {
      "text/plain": [
       "('2-plus-1-scenario', 'ASA-Wrong-Pred')"
      ]
     },
     "execution_count": 130,
     "metadata": {},
     "output_type": "execute_result"
    }
   ],
   "source": [
    "key"
   ]
  },
  {
   "cell_type": "code",
   "execution_count": 127,
   "metadata": {},
   "outputs": [
    {
     "data": {
      "text/plain": [
       "'1ASA-Wrong-Pred'"
      ]
     },
     "execution_count": 127,
     "metadata": {},
     "output_type": "execute_result"
    }
   ],
   "source": [
    "key = \"('2-plus-1-scenario', 'II', 150, 'ASA-Wrong-Pred', 18)\"\n",
    "\"1\" + eval(key.strip().split(\",\")[3].strip())"
   ]
  },
  {
   "cell_type": "code",
   "execution_count": 134,
   "metadata": {},
   "outputs": [
    {
     "name": "stderr",
     "output_type": "stream",
     "text": [
      " 50%|█████     | 20/40 [00:00<00:00, 110.54it/s]\n"
     ]
    },
    {
     "name": "stdout",
     "output_type": "stream",
     "text": [
      ".\n"
     ]
    },
    {
     "data": {
      "image/png": "[encoded data removed]",
      "text/plain": [
       "<Figure size 432x288 with 1 Axes>"
      ]
     },
     "metadata": {
      "needs_background": "light"
     },
     "output_type": "display_data"
    }
   ],
   "source": [
    "import pandas as pd\n",
    "import numpy as np\n",
    "from tqdm import tqdm\n",
    "from smartprint import smartprint as sprint\n",
    "from tqdm import tqdm\n",
    "import numpy as np\n",
    "import matplotlib.pyplot as plt\n",
    "\n",
    "for folder in folder_names:\n",
    "    \n",
    "\n",
    "    try:\n",
    "        for col_ in tqdm(range(100, 300, 5)):\n",
    "            df = pd.read_csv(folder+\"/\"+ \"overall_power_side_results_total_power_demand_met_at_now.csv\", usecols=range(col_), header=None)\n",
    "\n",
    "    except:\n",
    "        print(folder)\n",
    "        pass\n",
    "    df = df.fillna(0)\n",
    "#     print (df.head())\n",
    "\n",
    "\n",
    "    agg = {}\n",
    "\n",
    "    for i in range(df.shape[0]):\n",
    "        key = df.iloc[i, 0] #  \"\".join(df.iloc[i, :2].tolist())\n",
    "    #     print (str(key))\n",
    "        for scenario in accident_scenario_names:\n",
    "            for algo in [\"RR\", \"Unctrl\", \"Offline\", \"ASA\", \"ASA-Wrong-Pred\"]:\n",
    "    #             sprint (algo, scenario, key)\n",
    "                if scenario not in str(key):\n",
    "                    continue\n",
    "                if algo != eval(str(key.strip().split(\",\")[3].strip())):\n",
    "                    continue\n",
    "    #             print (scenario, algo, key, i)\n",
    "                L = df.iloc[i,1:].tolist()\n",
    "                L = [float(x) for x in L]\n",
    "                if (scenario, algo) in agg:\n",
    "                    agg[scenario, algo].append(L)\n",
    "                else:\n",
    "                    agg[scenario, algo] = [L]\n",
    "#     sprint (agg.keys())\n",
    "\n",
    "    for key in agg:\n",
    "        agg[key] = [sum(i) for i in zip(*agg[key])]\n",
    "#         if \"no-accident\" in key:\n",
    "#             alpha = 0.4\n",
    "#             style=\"--\"\n",
    "#         if \"45-min\" in key:\n",
    "#             alpha=1\n",
    "#             style='-'\n",
    "#         if \"RR\" in key:\n",
    "#             color = \"cyan\"\n",
    "#         if \"Unctrl\" in key:\n",
    "#             color = \"g\"\n",
    "#         if \"Offline\" in key:\n",
    "#             color = \"b\"   \n",
    "#             sprint (key, sum(agg[key]))            \n",
    "        if \"ASA\" != key[1]:\n",
    "            color = \"magenta\"              \n",
    "        if \"ASA-Wrong-Pred\" != key[1]:\n",
    "            color = \"orange\"                   \n",
    "\n",
    "        plt.plot(np.array(agg[key])/len(agg[key]), label=key, alpha=alpha, color=color, linestyle=style)\n",
    "\n",
    "    plt.legend(fontsize=9)\n",
    "    plt.xlabel(\"Time of day (Unit 5 minutes)\")\n",
    "    plt.ylabel(\"Power unmet at the current time\")\n",
    "    plt.title(slugify(folder))\n",
    "    plt.ylim(0, 0.2)\n",
    "    plt.savefig(slugify(\"Aggregate-unmet-power-at time t\") + slugify(folder) + \".png\", dpi=600)\n",
    "\n",
    "    plt.show()"
   ]
  },
  {
   "cell_type": "code",
   "execution_count": 52,
   "metadata": {},
   "outputs": [
    {
     "name": "stderr",
     "output_type": "stream",
     "text": [
      " 57%|█████▊    | 23/40 [00:00<00:00, 110.99it/s]"
     ]
    },
    {
     "name": "stdout",
     "output_type": "stream",
     "text": [
      ".\n"
     ]
    },
    {
     "name": "stderr",
     "output_type": "stream",
     "text": [
      "\n"
     ]
    }
   ],
   "source": []
  },
  {
   "cell_type": "code",
   "execution_count": 58,
   "metadata": {},
   "outputs": [
    {
     "data": {
      "text/plain": [
       "33"
      ]
     },
     "execution_count": 58,
     "metadata": {},
     "output_type": "execute_result"
    }
   ],
   "source": [
    "len(agg['2-plus-1-scenario', 'ASA'])"
   ]
  },
  {
   "cell_type": "code",
   "execution_count": null,
   "metadata": {},
   "outputs": [],
   "source": []
  },
  {
   "cell_type": "code",
   "execution_count": null,
   "metadata": {},
   "outputs": [],
   "source": []
  },
  {
   "cell_type": "code",
   "execution_count": null,
   "metadata": {},
   "outputs": [],
   "source": []
  },
  {
   "cell_type": "code",
   "execution_count": null,
   "metadata": {},
   "outputs": [],
   "source": []
  },
  {
   "cell_type": "code",
   "execution_count": null,
   "metadata": {},
   "outputs": [],
   "source": []
  },
  {
   "cell_type": "code",
   "execution_count": null,
   "metadata": {},
   "outputs": [],
   "source": []
  },
  {
   "cell_type": "code",
   "execution_count": null,
   "metadata": {},
   "outputs": [],
   "source": []
  },
  {
   "cell_type": "code",
   "execution_count": null,
   "metadata": {},
   "outputs": [],
   "source": []
  },
  {
   "cell_type": "code",
   "execution_count": null,
   "metadata": {},
   "outputs": [],
   "source": []
  },
  {
   "cell_type": "code",
   "execution_count": 199,
   "metadata": {},
   "outputs": [],
   "source": [
    "# df.groupby(by=[\"Traffic-scenario\", \"Transformer-capacity\", \"Scenario\", \"Algorithm\", \"Run_number\",\"aggregate_power_total\"]).sum()"
   ]
  },
  {
   "cell_type": "code",
   "execution_count": null,
   "metadata": {},
   "outputs": [],
   "source": []
  },
  {
   "cell_type": "code",
   "execution_count": 200,
   "metadata": {},
   "outputs": [],
   "source": [
    "# df.head()"
   ]
  },
  {
   "cell_type": "code",
   "execution_count": 201,
   "metadata": {},
   "outputs": [],
   "source": [
    "# print (df.head())"
   ]
  },
  {
   "cell_type": "code",
   "execution_count": 202,
   "metadata": {},
   "outputs": [],
   "source": [
    "# energy_delivered_by_scenario = df.groupby(['Traffic-scenario', 'Transformer-capacity', 'Scenario', 'Algorithm'])['total_energy_delivered'].sum()\n",
    "# energy_requested_by_scenario = df.groupby(['Traffic-scenario', 'Transformer-capacity', 'Scenario', 'Algorithm'])['total_energy_requested'].sum()\n",
    "# agg_power = df.groupby(['Traffic-scenario', 'Transformer-capacity', 'Scenario', 'Algorithm'])['aggregate_power_total'].sum()"
   ]
  },
  {
   "cell_type": "code",
   "execution_count": 203,
   "metadata": {},
   "outputs": [],
   "source": [
    "# energy_requested_by_scenario"
   ]
  },
  {
   "cell_type": "code",
   "execution_count": 204,
   "metadata": {},
   "outputs": [],
   "source": [
    "# energy_delivered_by_scenario/energy_requested_by_scenario"
   ]
  },
  {
   "cell_type": "code",
   "execution_count": 205,
   "metadata": {},
   "outputs": [],
   "source": [
    "# agg_power"
   ]
  },
  {
   "cell_type": "code",
   "execution_count": 206,
   "metadata": {},
   "outputs": [],
   "source": [
    "# peak_current = df.groupby(['Traffic-scenario', 'Transformer-capacity', 'Scenario', 'Algorithm'])['peak_current'].sum()\n",
    "# demands_fully_met = df.groupby(['Traffic-scenario', 'Transformer-capacity', 'Scenario', 'Algorithm'])['demands_fully_met'].mean()"
   ]
  },
  {
   "cell_type": "code",
   "execution_count": 207,
   "metadata": {},
   "outputs": [],
   "source": [
    "# peak_current"
   ]
  },
  {
   "cell_type": "code",
   "execution_count": 208,
   "metadata": {},
   "outputs": [],
   "source": [
    "# demands_fully_met"
   ]
  },
  {
   "cell_type": "code",
   "execution_count": null,
   "metadata": {},
   "outputs": [],
   "source": []
  },
  {
   "cell_type": "code",
   "execution_count": null,
   "metadata": {},
   "outputs": [],
   "source": []
  },
  {
   "cell_type": "code",
   "execution_count": null,
   "metadata": {},
   "outputs": [],
   "source": []
  },
  {
   "cell_type": "code",
   "execution_count": null,
   "metadata": {},
   "outputs": [],
   "source": []
  },
  {
   "cell_type": "code",
   "execution_count": null,
   "metadata": {},
   "outputs": [],
   "source": []
  },
  {
   "cell_type": "code",
   "execution_count": 209,
   "metadata": {},
   "outputs": [
    {
     "data": {
      "image/png": "[encoded data removed]",
      "text/plain": [
       "<Figure size 432x288 with 1 Axes>"
      ]
     },
     "metadata": {
      "needs_background": "light"
     },
     "output_type": "display_data"
    }
   ],
   "source": []
  },
  {
   "cell_type": "code",
   "execution_count": 210,
   "metadata": {},
   "outputs": [
    {
     "name": "stderr",
     "output_type": "stream",
     "text": [
      " 25%|██▌       | 10/40 [00:00<00:00, 144.50it/s]\n"
     ]
    },
    {
     "name": "stdout",
     "output_type": "stream",
     "text": [
      ".\n",
      "key, sum(agg[key]) : ('2-plus-1-scenario', 'Offline') 1022.655990723557\n"
     ]
    },
    {
     "data": {
      "image/png": "[encoded data removed]",
      "text/plain": [
       "<Figure size 432x288 with 1 Axes>"
      ]
     },
     "metadata": {
      "needs_background": "light"
     },
     "output_type": "display_data"
    }
   ],
   "source": []
  },
  {
   "cell_type": "code",
   "execution_count": null,
   "metadata": {},
   "outputs": [],
   "source": []
  },
  {
   "cell_type": "code",
   "execution_count": null,
   "metadata": {},
   "outputs": [],
   "source": []
  },
  {
   "cell_type": "code",
   "execution_count": null,
   "metadata": {},
   "outputs": [],
   "source": []
  },
  {
   "cell_type": "code",
   "execution_count": null,
   "metadata": {},
   "outputs": [],
   "source": []
  },
  {
   "cell_type": "code",
   "execution_count": null,
   "metadata": {},
   "outputs": [],
   "source": []
  },
  {
   "cell_type": "code",
   "execution_count": null,
   "metadata": {},
   "outputs": [],
   "source": []
  },
  {
   "cell_type": "code",
   "execution_count": null,
   "metadata": {},
   "outputs": [],
   "source": []
  },
  {
   "cell_type": "code",
   "execution_count": null,
   "metadata": {},
   "outputs": [],
   "source": []
  },
  {
   "cell_type": "code",
   "execution_count": null,
   "metadata": {},
   "outputs": [],
   "source": []
  },
  {
   "cell_type": "code",
   "execution_count": null,
   "metadata": {},
   "outputs": [],
   "source": []
  },
  {
   "cell_type": "code",
   "execution_count": null,
   "metadata": {},
   "outputs": [],
   "source": []
  },
  {
   "cell_type": "code",
   "execution_count": null,
   "metadata": {},
   "outputs": [],
   "source": []
  },
  {
   "cell_type": "code",
   "execution_count": null,
   "metadata": {},
   "outputs": [],
   "source": []
  },
  {
   "cell_type": "code",
   "execution_count": null,
   "metadata": {},
   "outputs": [],
   "source": []
  },
  {
   "cell_type": "code",
   "execution_count": null,
   "metadata": {},
   "outputs": [],
   "source": []
  },
  {
   "cell_type": "code",
   "execution_count": null,
   "metadata": {},
   "outputs": [],
   "source": []
  },
  {
   "cell_type": "code",
   "execution_count": null,
   "metadata": {},
   "outputs": [],
   "source": []
  },
  {
   "cell_type": "code",
   "execution_count": null,
   "metadata": {},
   "outputs": [],
   "source": []
  },
  {
   "cell_type": "code",
   "execution_count": 60,
   "metadata": {},
   "outputs": [
    {
     "name": "stderr",
     "output_type": "stream",
     "text": [
      "  2%|▎         | 1/40 [00:00<00:00, 107.80it/s]"
     ]
    },
    {
     "name": "stdout",
     "output_type": "stream",
     "text": [
      ".\n"
     ]
    },
    {
     "name": "stderr",
     "output_type": "stream",
     "text": [
      "\n"
     ]
    },
    {
     "ename": "KeyError",
     "evalue": "('no-accident', 'RR')",
     "output_type": "error",
     "traceback": [
      "\u001b[0;31m---------------------------------------------------------------------------\u001b[0m",
      "\u001b[0;31mKeyError\u001b[0m                                  Traceback (most recent call last)",
      "\u001b[0;32m<ipython-input-60-63e177f70111>\u001b[0m in \u001b[0;36m<module>\u001b[0;34m\u001b[0m\n\u001b[1;32m     48\u001b[0m \u001b[0;34m\u001b[0m\u001b[0m\n\u001b[1;32m     49\u001b[0m     \u001b[0;32mfor\u001b[0m \u001b[0mscenario\u001b[0m \u001b[0;32min\u001b[0m \u001b[0;34m[\u001b[0m\u001b[0;34m'no-accident'\u001b[0m\u001b[0;34m,\u001b[0m \u001b[0;34m\"45-min\"\u001b[0m\u001b[0;34m]\u001b[0m\u001b[0;34m:\u001b[0m\u001b[0;34m\u001b[0m\u001b[0;34m\u001b[0m\u001b[0m\n\u001b[0;32m---> 50\u001b[0;31m         \u001b[0magg\u001b[0m\u001b[0;34m[\u001b[0m\u001b[0mscenario\u001b[0m\u001b[0;34m,\u001b[0m \u001b[0;34m\"RR-Unctrl\"\u001b[0m\u001b[0;34m]\u001b[0m \u001b[0;34m=\u001b[0m \u001b[0mnp\u001b[0m\u001b[0;34m.\u001b[0m\u001b[0marray\u001b[0m\u001b[0;34m(\u001b[0m\u001b[0magg\u001b[0m\u001b[0;34m[\u001b[0m\u001b[0mscenario\u001b[0m\u001b[0;34m,\u001b[0m \u001b[0;34m\"RR\"\u001b[0m\u001b[0;34m]\u001b[0m\u001b[0;34m)\u001b[0m \u001b[0;34m-\u001b[0m \u001b[0mnp\u001b[0m\u001b[0;34m.\u001b[0m\u001b[0marray\u001b[0m\u001b[0;34m(\u001b[0m\u001b[0magg\u001b[0m\u001b[0;34m[\u001b[0m\u001b[0mscenario\u001b[0m\u001b[0;34m,\u001b[0m \u001b[0;34m\"Unctrl\"\u001b[0m\u001b[0;34m]\u001b[0m\u001b[0;34m)\u001b[0m\u001b[0;34m\u001b[0m\u001b[0;34m\u001b[0m\u001b[0m\n\u001b[0m\u001b[1;32m     51\u001b[0m         \u001b[0magg\u001b[0m\u001b[0;34m[\u001b[0m\u001b[0mscenario\u001b[0m\u001b[0;34m,\u001b[0m \u001b[0;34m\"ASA-Unctrl\"\u001b[0m\u001b[0;34m]\u001b[0m \u001b[0;34m=\u001b[0m \u001b[0mnp\u001b[0m\u001b[0;34m.\u001b[0m\u001b[0marray\u001b[0m\u001b[0;34m(\u001b[0m\u001b[0magg\u001b[0m\u001b[0;34m[\u001b[0m\u001b[0mscenario\u001b[0m\u001b[0;34m,\u001b[0m \u001b[0;34m\"ASA\"\u001b[0m\u001b[0;34m]\u001b[0m\u001b[0;34m)\u001b[0m \u001b[0;34m-\u001b[0m \u001b[0mnp\u001b[0m\u001b[0;34m.\u001b[0m\u001b[0marray\u001b[0m\u001b[0;34m(\u001b[0m\u001b[0magg\u001b[0m\u001b[0;34m[\u001b[0m\u001b[0mscenario\u001b[0m\u001b[0;34m,\u001b[0m \u001b[0;34m\"Unctrl\"\u001b[0m\u001b[0;34m]\u001b[0m\u001b[0;34m)\u001b[0m\u001b[0;34m\u001b[0m\u001b[0;34m\u001b[0m\u001b[0m\n\u001b[1;32m     52\u001b[0m \u001b[0;34m\u001b[0m\u001b[0m\n",
      "\u001b[0;31mKeyError\u001b[0m: ('no-accident', 'RR')"
     ]
    }
   ],
   "source": [
    "import pandas as pd\n",
    "import numpy as np\n",
    "from tqdm import tqdm\n",
    "from smartprint import smartprint as sprint\n",
    "\n",
    "import numpy as np\n",
    "import matplotlib.pyplot as plt\n",
    "\n",
    "for folder in folder_names:\n",
    "    \n",
    "    try:\n",
    "        for col_ in tqdm(range(100, 300, 5)):\n",
    "            df = pd.read_csv(folder+\"/\"+ \"overall_power_side_results_total_power_demand_met_at_now.csv\", usecols=range(col_), header=None)\n",
    "\n",
    "    except:\n",
    "        print(folder)\n",
    "        pass    \n",
    "    df = df.fillna(0)\n",
    "#     print (df.head())\n",
    "\n",
    "\n",
    "    agg = {}\n",
    "\n",
    "    for i in range(df.shape[0]):\n",
    "        key = df.iloc[i, 0] #  \"\".join(df.iloc[i, :2].tolist())\n",
    "    #     print (str(key))\n",
    "        for scenario in [\"no-accident\", \"45-min\"]:\n",
    "            for algo in [\"RR\", \"Unctrl\", \"Offline\",\"ASA\"]:\n",
    "    #             sprint (algo, scenario, key)\n",
    "                if scenario not in str(key):\n",
    "                    continue\n",
    "                if algo not in str(key):\n",
    "                    continue\n",
    "    #             print (scenario, algo, key, i)\n",
    "                L = df.iloc[i,1:].tolist()\n",
    "                L = [float(x) for x in L]\n",
    "                if (scenario, algo) in agg:\n",
    "                    agg[scenario, algo].append(L)\n",
    "                else:\n",
    "                    agg[scenario, algo] = [L]\n",
    "#     sprint (agg.keys())\n",
    "#     for key in agg:\n",
    "#         agg[key] = np.mean(np.array([sum(i) for i in zip(*agg[key])]), axis=0)\n",
    "\n",
    "    for i in range(len(agg.keys())):\n",
    "        agg[list(agg.keys())[i]] = np.array(agg[list(agg.keys())[i]])\n",
    "        agg[list(agg.keys())[i]] = agg[list(agg.keys())[i]].mean(axis=0)\n",
    "\n",
    "    for scenario in ['no-accident', \"45-min\"]:\n",
    "        agg[scenario, \"RR-Unctrl\"] = np.array(agg[scenario, \"RR\"]) - np.array(agg[scenario, \"Unctrl\"])\n",
    "        agg[scenario, \"ASA-Unctrl\"] = np.array(agg[scenario, \"ASA\"]) - np.array(agg[scenario, \"Unctrl\"])\n",
    "\n",
    "    for scenario in ['no-accident', \"45-min\"]:        \n",
    "        for _ in [\"ASA-Unctrl\", \"RR-Unctrl\"]:\n",
    "            key = (scenario, _)\n",
    "            if \"no-accident\" in str(key):\n",
    "                alpha = 0.4\n",
    "                style=\"--\"\n",
    "            if \"45-min\" in str(key):\n",
    "                alpha=1\n",
    "                style='-'\n",
    "            if \"RR\" in str(key):\n",
    "                color = \"cyan\"\n",
    "            if \"ASA\" in str(key):\n",
    "                color = \"magenta\"          \n",
    "\n",
    "            plt.plot(np.array(agg[key]), label=key, alpha=alpha, color=color, linestyle=style)\n",
    "\n",
    "    plt.legend(fontsize=9)\n",
    "    plt.xlabel(\"Time of day (Unit 5 minutes)\")\n",
    "    plt.ylabel(\"Power unmet at the current time\")\n",
    "    plt.title(slugify(folder))\n",
    "#     plt.ylim(-1,1)\n",
    "    plt.savefig(slugify(\"Aggregate-unmet-power-at time t-diff-\") + slugify(folder) + \".png\", dpi=600)\n",
    "\n",
    "    plt.show()\n"
   ]
  },
  {
   "cell_type": "code",
   "execution_count": 20,
   "metadata": {},
   "outputs": [
    {
     "data": {
      "text/plain": [
       "(229,)"
      ]
     },
     "execution_count": 20,
     "metadata": {},
     "output_type": "execute_result"
    }
   ],
   "source": []
  },
  {
   "cell_type": "code",
   "execution_count": 25,
   "metadata": {},
   "outputs": [
    {
     "name": "stderr",
     "output_type": "stream",
     "text": [
      " 72%|███████▎  | 29/40 [00:00<00:00, 93.16it/s] \n"
     ]
    },
    {
     "name": "stdout",
     "output_type": "stream",
     "text": [
      "continuous-0_5_penetration_same_objective_across_ASA_Offline\n"
     ]
    },
    {
     "data": {
      "image/png": "[encoded data removed]",
      "text/plain": [
       "<Figure size 432x288 with 1 Axes>"
      ]
     },
     "metadata": {
      "needs_background": "light"
     },
     "output_type": "display_data"
    },
    {
     "name": "stderr",
     "output_type": "stream",
     "text": [
      " 68%|██████▊   | 27/40 [00:00<00:00, 94.36it/s] \n"
     ]
    },
    {
     "name": "stdout",
     "output_type": "stream",
     "text": [
      "continuous-0_5_penetration_same_objective_across_ASA_Offline_quantised_and_uninterrupted\n"
     ]
    },
    {
     "data": {
      "image/png": "[encoded data removed]",
      "text/plain": [
       "<Figure size 432x288 with 1 Axes>"
      ]
     },
     "metadata": {
      "needs_background": "light"
     },
     "output_type": "display_data"
    }
   ],
   "source": [
    "import pandas as pd\n",
    "import numpy as np\n",
    "from tqdm import tqdm\n",
    "from smartprint import smartprint as sprint\n",
    "\n",
    "import numpy as np\n",
    "import matplotlib.pyplot as plt\n",
    "\n",
    "for folder in folder_names:\n",
    "    \n",
    "    try:\n",
    "        for col_ in tqdm(range(100, 300, 5)):\n",
    "            df = pd.read_csv(folder+\"/\"+ \"overall_power_side_results_total_power_demand_met_at_now.csv\", usecols=range(col_), header=None)\n",
    "\n",
    "    except:\n",
    "        print(folder)\n",
    "        pass    \n",
    "    df = df.fillna(0)\n",
    "#     print (df.head())\n",
    "\n",
    "\n",
    "    agg = {}\n",
    "\n",
    "    for i in range(df.shape[0]):\n",
    "        key = df.iloc[i, 0] #  \"\".join(df.iloc[i, :2].tolist())\n",
    "    #     print (str(key))\n",
    "        for scenario in [\"no-accident\", \"45-min\"]:\n",
    "            for algo in [\"RR\", \"Unctrl\", \"Offline\",\"ASA\"]:\n",
    "    #             sprint (algo, scenario, key)\n",
    "                if scenario not in str(key):\n",
    "                    continue\n",
    "                if algo not in str(key):\n",
    "                    continue\n",
    "    #             print (scenario, algo, key, i)\n",
    "                L = df.iloc[i,1:].tolist()\n",
    "                L = [float(x) for x in L]\n",
    "                if (scenario, algo) in agg:\n",
    "                    agg[scenario, algo].append(L)\n",
    "                else:\n",
    "                    agg[scenario, algo] = [L]\n",
    "#     sprint (agg.keys())\n",
    "#     for key in agg:\n",
    "#         agg[key] = np.mean(np.array([sum(i) for i in zip(*agg[key])]), axis=0)\n",
    "\n",
    "    for i in range(len(agg.keys())):\n",
    "        agg[list(agg.keys())[i]] = np.array(agg[list(agg.keys())[i]])\n",
    "        agg[list(agg.keys())[i]] = agg[list(agg.keys())[i]].mean(axis=0)\n",
    "\n",
    "    for scenario in ['no-accident', \"45-min\"]:\n",
    "        agg[scenario, \"RR-Offline\"] = np.array(agg[scenario, \"RR\"]) - np.array(agg[scenario, \"Unctrl\"])\n",
    "        agg[scenario, \"ASA-Offline\"] = np.array(agg[scenario, \"ASA\"]) - np.array(agg[scenario, \"Unctrl\"])\n",
    "\n",
    "    for scenario in ['no-accident', \"45-min\"]:        \n",
    "        for _ in [\"ASA-Offline\", \"RR-Offline\"]:\n",
    "            key = (scenario, _)\n",
    "            if \"no-accident\" in str(key):\n",
    "                alpha = 0.4\n",
    "                style=\"--\"\n",
    "            if \"45-min\" in str(key):\n",
    "                alpha=1\n",
    "                style='-'\n",
    "            if \"RR\" in str(key):\n",
    "                color = \"cyan\"\n",
    "            if \"ASA\" in str(key):\n",
    "                color = \"magenta\"          \n",
    "\n",
    "            plt.plot(np.array(agg[key]), label=key, alpha=alpha, color=color, linestyle=style)\n",
    "\n",
    "    plt.legend(fontsize=9)\n",
    "    plt.xlabel(\"Time of day (Unit 5 minutes)\")\n",
    "    plt.ylabel(\"Power unmet at the current time\")\n",
    "    plt.title(slugify(folder))\n",
    "#     plt.ylim(-1,1)\n",
    "    plt.savefig(slugify(\"Aggregate-unmet-power-at time t-diff-\") + slugify(folder) + \".png\", dpi=600)\n",
    "\n",
    "    plt.show()\n"
   ]
  },
  {
   "cell_type": "code",
   "execution_count": null,
   "metadata": {},
   "outputs": [],
   "source": []
  },
  {
   "cell_type": "code",
   "execution_count": null,
   "metadata": {},
   "outputs": [],
   "source": []
  },
  {
   "cell_type": "code",
   "execution_count": null,
   "metadata": {},
   "outputs": [],
   "source": []
  }
 ],
 "metadata": {
  "kernelspec": {
   "display_name": "Python 3",
   "language": "python",
   "name": "python3"
  },
  "language_info": {
   "codemirror_mode": {
    "name": "ipython",
    "version": 3
   },
   "file_extension": ".py",
   "mimetype": "text/x-python",
   "name": "python",
   "nbconvert_exporter": "python",
   "pygments_lexer": "ipython3",
   "version": "3.8.5"
  }
 },
 "nbformat": 4,
 "nbformat_minor": 4
}
